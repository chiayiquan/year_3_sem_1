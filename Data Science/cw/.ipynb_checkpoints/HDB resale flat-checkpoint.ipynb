{
 "cells": [
  {
   "cell_type": "markdown",
   "id": "83c390cb",
   "metadata": {},
   "source": [
    "# Introduction"
   ]
  },
  {
   "cell_type": "markdown",
   "id": "2cba742d",
   "metadata": {},
   "source": [
    "#### Domain-specific area"
   ]
  },
  {
   "cell_type": "markdown",
   "id": "b74c8202",
   "metadata": {},
   "source": [
    "The domain-specific area where the regression model will contribute is the value of houses. The value of a house has different factors which will affect its prices like its location, floor area, or the age of the building. Using a regression model, we can have a prediction of where housing prices will be at with the different attributes of a house. This can be beneficial in the long run as using this data, we can estimate the future value of the property which can help us whether to buy a house now in a certain location and resell it to earn profits.\n",
    "\n",
    "Singapore is a small country, the land size is only 728.6 km² which means that land is scarce which will drive the price of property up even more. Public houses are government owned meaning that each block of flat(hdb) that is built has a lifespan of 99 years. This means if the building is built in the year 2000, the building lease will end in 2099 regardless of when the buyer buys it. Private properties also have a land lease of 99 years or 999 years which means that after the lease is up that plot of land will become government property again. However, during this lease period, if the government reclaims the land, the government will compensate by the market rate. This applies not just to private properties but public houses too.\n",
    "\n",
    "<b>References:</b>\n",
    "\n",
    "Hdb lease period and what happened when the lease is up: https://www.hdb.gov.sg/about-us/news-and-publications/publications/hdbspeaks/an-hdb-flat-for-your-different-life-cycle-needs\n",
    "\n",
    "News article of government reclaiming property: https://www.ura.gov.sg/corporate/media-room/media-releases/pr15-24\n"
   ]
  },
  {
   "cell_type": "markdown",
   "id": "d039cd26",
   "metadata": {},
   "source": [
    "#### Dataset"
   ]
  },
  {
   "cell_type": "markdown",
   "id": "09dea8fa",
   "metadata": {},
   "source": [
    "The dataset I am using is the <a href='https://data.gov.sg/dataset/resale-flat-prices'>HDB resale flat dataset</a> provided by <a href='https://data.gov.sg/'>GovTech Of Singapore</a>. GovTech Of Singapore is a government agency that delivers government digital services. The <a href='https://data.gov.sg/dataset/resale-flat-prices'>dataset</a> provided consists of 5 csv data of resale flats dated from 1990 to 2022. \n",
    "\n",
    "The dataset consists of the following columns:\n",
    "- month (datetime YYYY-MM)\n",
    "- town (string)\n",
    "- flat_type (string)\n",
    "- block (string)\n",
    "- street_name (string)\n",
    "- storey_range (string)\n",
    "- floor_area_sqm (number)\n",
    "- flat_model (string)\n",
    "- lease_commence_date (datetime YYYY)\n",
    "- remaining_lease (datetime YYYY-MM)\n",
    "- resale_price (number)\n",
    "\n",
    "The month column is the month and year the sale of the flat occurred. \n",
    "\n",
    "The town column is the town to which the flat belongs. \n",
    "\n",
    "The flat_type column is the type the flat it belongs to. The type of flat that is available in Singapore are 1-room, 2-room, 3-room, 4-room, 5-room, executive and multi-generation. More details of the different features available for each type of flat can be found <a href=\"https://www.hdb.gov.sg/residential/buying-a-flat/finding-a-flat/types-of-flats\">here</a>. \n",
    "\n",
    "The block column is a label for the block to help people identify the different blocks of hdb. \n",
    "\n",
    "The street_name column is the street where the flat is located. \n",
    "\n",
    "The storey_range column is the range where the unit is at. For example, 1 to 3 means that the flat can be on floors 1 or 2, or 3. \n",
    "\n",
    "The floor_area_sqm column is the floor area of the flat. It measures how big the flat is in square meter. \n",
    "\n",
    "The flat_model column describes what type of model the flat is. There are types like Standard, Improved, New generation,  and others(<a href=\"https://huihui247.blogspot.com/2012/06/different-hdb-flat-types-and-varying.html\">read more here</a>). Each of these means that when the flat is built at different times, it can have a different setup like a double-storey or attached toilet. \n",
    "\n",
    "The lease_commence_date column describes the year when the flat lease started. HDB flats have a 99 years lease, which means that regardless of which timeframe you buy at, the flat lease will not reset. \n",
    "\n",
    "The remaining_lease describe the remaining years and month the flat have left. Once the lease is up, the flat ownership will return to the housing development board which will return the ownership to the state(<a href=\"https://www.hdb.gov.sg/about-us/news-and-publications/publications/hdbspeaks/an-hdb-flat-for-your-different-life-cycle-needs#:~:text=Like%20all%20leasehold%20properties%20in,the%20land%20to%20the%20State.\">read more here</a>). \n",
    "\n",
    "The resale_price column describes the price the unit is sold at.\n",
    "\n",
    "<b>References:</b>\n",
    "\n",
    "Dataset url: https://data.gov.sg/dataset/resale-flat-prices\n",
    "\n",
    "Types of hdb flats: https://www.hdb.gov.sg/residential/buying-a-flat/finding-a-flat/types-of-flats\n",
    "\n",
    "Types of flat model: https://huihui247.blogspot.com/2012/06/different-hdb-flat-types-and-varying.html\n",
    "\n",
    "Hdb lease period and what happened when the lease is up: https://www.hdb.gov.sg/about-us/news-and-publications/publications/hdbspeaks/an-hdb-flat-for-your-different-life-cycle-needs#:~:text=Like%20all%20leasehold%20properties%20in,the%20land%20to%20the%20State."
   ]
  },
  {
   "cell_type": "markdown",
   "id": "38033b18",
   "metadata": {},
   "source": [
    "#### Objective Of This Project"
   ]
  },
  {
   "cell_type": "markdown",
   "id": "af4c282f",
   "metadata": {},
   "source": [
    "The objective of this project is to predict the hdb flat price based on the different kinds of features that exist in the flat. With all the numerical and categorical features that existed in the <a href=\"https://data.gov.sg/dataset/resale-flat-prices\">dataset</a>, we can make a prediction based on those features for its resale price. However, prediction is an estimation which means that it does not reflect the actual figure in the real world as there are other external factors like inflation. \n",
    "\n",
    "This is a brief overview of how I will utilize the numerical and categorical features to build the model during the implementation part. Firstly, the columns that I won't be using are town and flat_model as it does not give additional meaning to our model for prediction. \n",
    "\n",
    "Secondly, the remaining_lease column is not present in older csv so rather than relying on the remaining_lease value from the csv, we will calculate it by using the month and lease_commence_date columns. By using the year value in the month column, we can use (year - lease_commence_date value) to get the number of years the lease has used up and because each flat has a period of 99 years, we can use (99 - number of years used) to get the remaining years. \n",
    "\n",
    "Thirdly, block and street_name don't give us any special meaning to it but if we combine both of the values, we can retrieve their longitude and latitude. We can get the coordinate of the CBD(central business district) area and the existing MRT(Mass Rapid Transit) station which is the train/subway station in Singapore. With the coordinates, we can use the <a href=\"https://en.wikipedia.org/wiki/Haversine_formula\">Haversine formula</a> to calculate distance however, I do not understand the formula so I took the function from <a href=\"https://stackoverflow.com/questions/27928/calculate-distance-between-two-latitude-longitude-points-haversine-formula\">stacksoverflow</a>. The distance to the nearest MRT station and the distance to the CBD area from the address will give great meaning to the dataset.\n",
    "\n",
    "Fourth, flat_type is a categorial feature that can be converted to a numerical value in this case as 2-room are bigger than 1-room but smaller than 3-room. For executive, it is the premium of all the flat_type as it is the biggest followed by multi-generation and then 5-room and the rest of it.\n",
    "\n",
    "Lastly, storey_range is a range so I converted it to numerical by splitting the value with the delimiter of \" to \" and adding both of the values and averaging it. So when I first started this, I was thinking about whether the level the unit is located at has an impact on the price and after reading some articles it does have an impact. Quoted from <a href=\"https://mothership.sg/2021/03/high-hdb-floors-sg-experience/\">this article</a> \"In new BTO projects, higher floors are typically sold for higher prices, with a difference of anywhere between S\\\\$3,000 to S\\\\$7,000 for <b>each floor</b>.\" The higher the unit is located at, the higher the price it will sell.\n",
    "\n",
    "<b>References:</b>\n",
    "\n",
    "Haversine formula: https://en.wikipedia.org/wiki/Haversine_formula\n",
    "\n",
    "Distance calculation of coordinates from stackoverflow: https://stackoverflow.com/questions/27928/calculate-distance-between-two-latitude-longitude-points-haversine-formula\n",
    "\n",
    "Does unit floor affect prices: https://mothership.sg/2021/03/high-hdb-floors-sg-experience/"
   ]
  },
  {
   "cell_type": "markdown",
   "id": "72525295",
   "metadata": {},
   "source": [
    "# Implementation"
   ]
  },
  {
   "cell_type": "markdown",
   "id": "83d9e86c",
   "metadata": {},
   "source": [
    "## Preproccessing Data"
   ]
  },
  {
   "cell_type": "code",
   "execution_count": 1,
   "id": "cfce29c4",
   "metadata": {},
   "outputs": [],
   "source": [
    "# import all the library needed\n",
    "from matplotlib import pyplot as plt\n",
    "import matplotlib as mpl\n",
    "import seaborn as sns \n",
    "from math import cos, asin, sqrt, pi\n",
    "from sklearn.model_selection import train_test_split\n",
    "from sklearn.linear_model import LinearRegression\n",
    "from sklearn.metrics import mean_squared_error\n",
    "import pandas as pd\n",
    "import numpy as np\n",
    "import json\n",
    "import requests"
   ]
  },
  {
   "cell_type": "markdown",
   "id": "6b0c54db",
   "metadata": {},
   "source": [
    "#### Importing the data"
   ]
  },
  {
   "cell_type": "code",
   "execution_count": 2,
   "id": "5ffc3d7d",
   "metadata": {},
   "outputs": [],
   "source": [
    "# read all the csv file\n",
    "folder_path = \"./resale-flat-prices/\"\n",
    "files_path = [\n",
    "            folder_path+\"resale-flat-prices-based-on-registration-date-from-jan-2017-onwards.csv\",\n",
    "            folder_path+\"resale-flat-prices-based-on-registration-date-from-mar-2012-to-dec-2014.csv\",\n",
    "            folder_path+\"resale-flat-prices-based-on-registration-date-from-jan-2015-to-dec-2016.csv\",\n",
    "            folder_path+\"resale-flat-prices-based-on-approval-date-2000-feb-2012.csv\",\n",
    "            folder_path+\"resale-flat-prices-based-on-approval-date-1990-1999.csv\"\n",
    "            ]\n",
    "\n",
    "hdb_data = pd.concat(map(pd.read_csv, files_path))\n",
    "\n",
    "# add a new column as address which is block\n",
    "hdb_data['address'] = hdb_data['block'] + \" \" + hdb_data['street_name']"
   ]
  },
  {
   "cell_type": "markdown",
   "id": "4a9e0723",
   "metadata": {},
   "source": [
    "#### Get Geo Location Of HDB Address And MRT Station "
   ]
  },
  {
   "cell_type": "code",
   "execution_count": 3,
   "id": "7a1c29e8",
   "metadata": {},
   "outputs": [],
   "source": [
    "# take in an address:string\n",
    "# return a api url:string\n",
    "# api that give us coordinates of an address\n",
    "# onemap api is developed by Singapore Land Authority\n",
    "# https://www.onemap.gov.sg/docs/#onemap-rest-apis is the doc for the api I am using\n",
    "def get_query_string(address):\n",
    "    return 'https://developers.onemap.sg/commonapi/search?searchVal='+address+'&returnGeom=Y&getAddrDetails=Y' \n",
    "\n",
    "# take in an address:string\n",
    "# return a json response\n",
    "def get_geo_location(address):\n",
    "    response = requests.get(get_query_string(address))\n",
    "    return json.loads(response.content)\n",
    "\n",
    "\n"
   ]
  },
  {
   "cell_type": "code",
   "execution_count": 4,
   "id": "426659c5",
   "metadata": {},
   "outputs": [
    {
     "name": "stdout",
     "output_type": "stream",
     "text": [
      "9671\n"
     ]
    },
    {
     "ename": "KeyboardInterrupt",
     "evalue": "",
     "output_type": "error",
     "traceback": [
      "\u001b[0;31m---------------------------------------------------------------------------\u001b[0m",
      "\u001b[0;31mKeyboardInterrupt\u001b[0m                         Traceback (most recent call last)",
      "Cell \u001b[0;32mIn[4], line 13\u001b[0m\n\u001b[1;32m     11\u001b[0m \u001b[38;5;66;03m# call one time as it takes too long to fetch that much data from api\u001b[39;00m\n\u001b[1;32m     12\u001b[0m \u001b[38;5;28;01mfor\u001b[39;00m address \u001b[38;5;129;01min\u001b[39;00m addresses:\n\u001b[0;32m---> 13\u001b[0m     json_result \u001b[38;5;241m=\u001b[39m \u001b[43mget_geo_location\u001b[49m\u001b[43m(\u001b[49m\u001b[43maddress\u001b[49m\u001b[43m)\u001b[49m\n\u001b[1;32m     14\u001b[0m     \u001b[38;5;66;03m# if the location of the address is not found, get the location of the street name \u001b[39;00m\n\u001b[1;32m     15\u001b[0m     \u001b[38;5;66;03m# there are still some street name that cannot be found through this api \u001b[39;00m\n\u001b[1;32m     16\u001b[0m     hdb_geo_location[address] \u001b[38;5;241m=\u001b[39m json_result \u001b[38;5;28;01mif\u001b[39;00m json_result\u001b[38;5;241m.\u001b[39mget(\u001b[38;5;124m'\u001b[39m\u001b[38;5;124mfound\u001b[39m\u001b[38;5;124m'\u001b[39m) \u001b[38;5;241m>\u001b[39m \u001b[38;5;241m0\u001b[39m \u001b[38;5;28;01melse\u001b[39;00m get_geo_location(address\u001b[38;5;241m.\u001b[39msplit(\u001b[38;5;124m'\u001b[39m\u001b[38;5;124m \u001b[39m\u001b[38;5;124m'\u001b[39m,\u001b[38;5;241m1\u001b[39m)[\u001b[38;5;241m1\u001b[39m])\n",
      "Cell \u001b[0;32mIn[3], line 12\u001b[0m, in \u001b[0;36mget_geo_location\u001b[0;34m(address)\u001b[0m\n\u001b[1;32m     11\u001b[0m \u001b[38;5;28;01mdef\u001b[39;00m \u001b[38;5;21mget_geo_location\u001b[39m(address):\n\u001b[0;32m---> 12\u001b[0m     response \u001b[38;5;241m=\u001b[39m \u001b[43mrequests\u001b[49m\u001b[38;5;241;43m.\u001b[39;49m\u001b[43mget\u001b[49m\u001b[43m(\u001b[49m\u001b[43mget_query_string\u001b[49m\u001b[43m(\u001b[49m\u001b[43maddress\u001b[49m\u001b[43m)\u001b[49m\u001b[43m)\u001b[49m\n\u001b[1;32m     13\u001b[0m     \u001b[38;5;28;01mreturn\u001b[39;00m json\u001b[38;5;241m.\u001b[39mloads(response\u001b[38;5;241m.\u001b[39mcontent)\n",
      "File \u001b[0;32m~/Desktop/year_3_sem_1/Data Science/env/lib/python3.10/site-packages/requests/api.py:73\u001b[0m, in \u001b[0;36mget\u001b[0;34m(url, params, **kwargs)\u001b[0m\n\u001b[1;32m     62\u001b[0m \u001b[38;5;28;01mdef\u001b[39;00m \u001b[38;5;21mget\u001b[39m(url, params\u001b[38;5;241m=\u001b[39m\u001b[38;5;28;01mNone\u001b[39;00m, \u001b[38;5;241m*\u001b[39m\u001b[38;5;241m*\u001b[39mkwargs):\n\u001b[1;32m     63\u001b[0m \u001b[38;5;250m    \u001b[39m\u001b[38;5;124mr\u001b[39m\u001b[38;5;124;03m\"\"\"Sends a GET request.\u001b[39;00m\n\u001b[1;32m     64\u001b[0m \n\u001b[1;32m     65\u001b[0m \u001b[38;5;124;03m    :param url: URL for the new :class:`Request` object.\u001b[39;00m\n\u001b[0;32m   (...)\u001b[0m\n\u001b[1;32m     70\u001b[0m \u001b[38;5;124;03m    :rtype: requests.Response\u001b[39;00m\n\u001b[1;32m     71\u001b[0m \u001b[38;5;124;03m    \"\"\"\u001b[39;00m\n\u001b[0;32m---> 73\u001b[0m     \u001b[38;5;28;01mreturn\u001b[39;00m \u001b[43mrequest\u001b[49m\u001b[43m(\u001b[49m\u001b[38;5;124;43m\"\u001b[39;49m\u001b[38;5;124;43mget\u001b[39;49m\u001b[38;5;124;43m\"\u001b[39;49m\u001b[43m,\u001b[49m\u001b[43m \u001b[49m\u001b[43murl\u001b[49m\u001b[43m,\u001b[49m\u001b[43m \u001b[49m\u001b[43mparams\u001b[49m\u001b[38;5;241;43m=\u001b[39;49m\u001b[43mparams\u001b[49m\u001b[43m,\u001b[49m\u001b[43m \u001b[49m\u001b[38;5;241;43m*\u001b[39;49m\u001b[38;5;241;43m*\u001b[39;49m\u001b[43mkwargs\u001b[49m\u001b[43m)\u001b[49m\n",
      "File \u001b[0;32m~/Desktop/year_3_sem_1/Data Science/env/lib/python3.10/site-packages/requests/api.py:59\u001b[0m, in \u001b[0;36mrequest\u001b[0;34m(method, url, **kwargs)\u001b[0m\n\u001b[1;32m     55\u001b[0m \u001b[38;5;66;03m# By using the 'with' statement we are sure the session is closed, thus we\u001b[39;00m\n\u001b[1;32m     56\u001b[0m \u001b[38;5;66;03m# avoid leaving sockets open which can trigger a ResourceWarning in some\u001b[39;00m\n\u001b[1;32m     57\u001b[0m \u001b[38;5;66;03m# cases, and look like a memory leak in others.\u001b[39;00m\n\u001b[1;32m     58\u001b[0m \u001b[38;5;28;01mwith\u001b[39;00m sessions\u001b[38;5;241m.\u001b[39mSession() \u001b[38;5;28;01mas\u001b[39;00m session:\n\u001b[0;32m---> 59\u001b[0m     \u001b[38;5;28;01mreturn\u001b[39;00m \u001b[43msession\u001b[49m\u001b[38;5;241;43m.\u001b[39;49m\u001b[43mrequest\u001b[49m\u001b[43m(\u001b[49m\u001b[43mmethod\u001b[49m\u001b[38;5;241;43m=\u001b[39;49m\u001b[43mmethod\u001b[49m\u001b[43m,\u001b[49m\u001b[43m \u001b[49m\u001b[43murl\u001b[49m\u001b[38;5;241;43m=\u001b[39;49m\u001b[43murl\u001b[49m\u001b[43m,\u001b[49m\u001b[43m \u001b[49m\u001b[38;5;241;43m*\u001b[39;49m\u001b[38;5;241;43m*\u001b[39;49m\u001b[43mkwargs\u001b[49m\u001b[43m)\u001b[49m\n",
      "File \u001b[0;32m~/Desktop/year_3_sem_1/Data Science/env/lib/python3.10/site-packages/requests/sessions.py:587\u001b[0m, in \u001b[0;36mSession.request\u001b[0;34m(self, method, url, params, data, headers, cookies, files, auth, timeout, allow_redirects, proxies, hooks, stream, verify, cert, json)\u001b[0m\n\u001b[1;32m    582\u001b[0m send_kwargs \u001b[38;5;241m=\u001b[39m {\n\u001b[1;32m    583\u001b[0m     \u001b[38;5;124m\"\u001b[39m\u001b[38;5;124mtimeout\u001b[39m\u001b[38;5;124m\"\u001b[39m: timeout,\n\u001b[1;32m    584\u001b[0m     \u001b[38;5;124m\"\u001b[39m\u001b[38;5;124mallow_redirects\u001b[39m\u001b[38;5;124m\"\u001b[39m: allow_redirects,\n\u001b[1;32m    585\u001b[0m }\n\u001b[1;32m    586\u001b[0m send_kwargs\u001b[38;5;241m.\u001b[39mupdate(settings)\n\u001b[0;32m--> 587\u001b[0m resp \u001b[38;5;241m=\u001b[39m \u001b[38;5;28;43mself\u001b[39;49m\u001b[38;5;241;43m.\u001b[39;49m\u001b[43msend\u001b[49m\u001b[43m(\u001b[49m\u001b[43mprep\u001b[49m\u001b[43m,\u001b[49m\u001b[43m \u001b[49m\u001b[38;5;241;43m*\u001b[39;49m\u001b[38;5;241;43m*\u001b[39;49m\u001b[43msend_kwargs\u001b[49m\u001b[43m)\u001b[49m\n\u001b[1;32m    589\u001b[0m \u001b[38;5;28;01mreturn\u001b[39;00m resp\n",
      "File \u001b[0;32m~/Desktop/year_3_sem_1/Data Science/env/lib/python3.10/site-packages/requests/sessions.py:701\u001b[0m, in \u001b[0;36mSession.send\u001b[0;34m(self, request, **kwargs)\u001b[0m\n\u001b[1;32m    698\u001b[0m start \u001b[38;5;241m=\u001b[39m preferred_clock()\n\u001b[1;32m    700\u001b[0m \u001b[38;5;66;03m# Send the request\u001b[39;00m\n\u001b[0;32m--> 701\u001b[0m r \u001b[38;5;241m=\u001b[39m \u001b[43madapter\u001b[49m\u001b[38;5;241;43m.\u001b[39;49m\u001b[43msend\u001b[49m\u001b[43m(\u001b[49m\u001b[43mrequest\u001b[49m\u001b[43m,\u001b[49m\u001b[43m \u001b[49m\u001b[38;5;241;43m*\u001b[39;49m\u001b[38;5;241;43m*\u001b[39;49m\u001b[43mkwargs\u001b[49m\u001b[43m)\u001b[49m\n\u001b[1;32m    703\u001b[0m \u001b[38;5;66;03m# Total elapsed time of the request (approximately)\u001b[39;00m\n\u001b[1;32m    704\u001b[0m elapsed \u001b[38;5;241m=\u001b[39m preferred_clock() \u001b[38;5;241m-\u001b[39m start\n",
      "File \u001b[0;32m~/Desktop/year_3_sem_1/Data Science/env/lib/python3.10/site-packages/requests/adapters.py:489\u001b[0m, in \u001b[0;36mHTTPAdapter.send\u001b[0;34m(self, request, stream, timeout, verify, cert, proxies)\u001b[0m\n\u001b[1;32m    487\u001b[0m \u001b[38;5;28;01mtry\u001b[39;00m:\n\u001b[1;32m    488\u001b[0m     \u001b[38;5;28;01mif\u001b[39;00m \u001b[38;5;129;01mnot\u001b[39;00m chunked:\n\u001b[0;32m--> 489\u001b[0m         resp \u001b[38;5;241m=\u001b[39m \u001b[43mconn\u001b[49m\u001b[38;5;241;43m.\u001b[39;49m\u001b[43murlopen\u001b[49m\u001b[43m(\u001b[49m\n\u001b[1;32m    490\u001b[0m \u001b[43m            \u001b[49m\u001b[43mmethod\u001b[49m\u001b[38;5;241;43m=\u001b[39;49m\u001b[43mrequest\u001b[49m\u001b[38;5;241;43m.\u001b[39;49m\u001b[43mmethod\u001b[49m\u001b[43m,\u001b[49m\n\u001b[1;32m    491\u001b[0m \u001b[43m            \u001b[49m\u001b[43murl\u001b[49m\u001b[38;5;241;43m=\u001b[39;49m\u001b[43murl\u001b[49m\u001b[43m,\u001b[49m\n\u001b[1;32m    492\u001b[0m \u001b[43m            \u001b[49m\u001b[43mbody\u001b[49m\u001b[38;5;241;43m=\u001b[39;49m\u001b[43mrequest\u001b[49m\u001b[38;5;241;43m.\u001b[39;49m\u001b[43mbody\u001b[49m\u001b[43m,\u001b[49m\n\u001b[1;32m    493\u001b[0m \u001b[43m            \u001b[49m\u001b[43mheaders\u001b[49m\u001b[38;5;241;43m=\u001b[39;49m\u001b[43mrequest\u001b[49m\u001b[38;5;241;43m.\u001b[39;49m\u001b[43mheaders\u001b[49m\u001b[43m,\u001b[49m\n\u001b[1;32m    494\u001b[0m \u001b[43m            \u001b[49m\u001b[43mredirect\u001b[49m\u001b[38;5;241;43m=\u001b[39;49m\u001b[38;5;28;43;01mFalse\u001b[39;49;00m\u001b[43m,\u001b[49m\n\u001b[1;32m    495\u001b[0m \u001b[43m            \u001b[49m\u001b[43massert_same_host\u001b[49m\u001b[38;5;241;43m=\u001b[39;49m\u001b[38;5;28;43;01mFalse\u001b[39;49;00m\u001b[43m,\u001b[49m\n\u001b[1;32m    496\u001b[0m \u001b[43m            \u001b[49m\u001b[43mpreload_content\u001b[49m\u001b[38;5;241;43m=\u001b[39;49m\u001b[38;5;28;43;01mFalse\u001b[39;49;00m\u001b[43m,\u001b[49m\n\u001b[1;32m    497\u001b[0m \u001b[43m            \u001b[49m\u001b[43mdecode_content\u001b[49m\u001b[38;5;241;43m=\u001b[39;49m\u001b[38;5;28;43;01mFalse\u001b[39;49;00m\u001b[43m,\u001b[49m\n\u001b[1;32m    498\u001b[0m \u001b[43m            \u001b[49m\u001b[43mretries\u001b[49m\u001b[38;5;241;43m=\u001b[39;49m\u001b[38;5;28;43mself\u001b[39;49m\u001b[38;5;241;43m.\u001b[39;49m\u001b[43mmax_retries\u001b[49m\u001b[43m,\u001b[49m\n\u001b[1;32m    499\u001b[0m \u001b[43m            \u001b[49m\u001b[43mtimeout\u001b[49m\u001b[38;5;241;43m=\u001b[39;49m\u001b[43mtimeout\u001b[49m\u001b[43m,\u001b[49m\n\u001b[1;32m    500\u001b[0m \u001b[43m        \u001b[49m\u001b[43m)\u001b[49m\n\u001b[1;32m    502\u001b[0m     \u001b[38;5;66;03m# Send the request.\u001b[39;00m\n\u001b[1;32m    503\u001b[0m     \u001b[38;5;28;01melse\u001b[39;00m:\n\u001b[1;32m    504\u001b[0m         \u001b[38;5;28;01mif\u001b[39;00m \u001b[38;5;28mhasattr\u001b[39m(conn, \u001b[38;5;124m\"\u001b[39m\u001b[38;5;124mproxy_pool\u001b[39m\u001b[38;5;124m\"\u001b[39m):\n",
      "File \u001b[0;32m~/Desktop/year_3_sem_1/Data Science/env/lib/python3.10/site-packages/urllib3/connectionpool.py:703\u001b[0m, in \u001b[0;36mHTTPConnectionPool.urlopen\u001b[0;34m(self, method, url, body, headers, retries, redirect, assert_same_host, timeout, pool_timeout, release_conn, chunked, body_pos, **response_kw)\u001b[0m\n\u001b[1;32m    700\u001b[0m     \u001b[38;5;28mself\u001b[39m\u001b[38;5;241m.\u001b[39m_prepare_proxy(conn)\n\u001b[1;32m    702\u001b[0m \u001b[38;5;66;03m# Make the request on the httplib connection object.\u001b[39;00m\n\u001b[0;32m--> 703\u001b[0m httplib_response \u001b[38;5;241m=\u001b[39m \u001b[38;5;28;43mself\u001b[39;49m\u001b[38;5;241;43m.\u001b[39;49m\u001b[43m_make_request\u001b[49m\u001b[43m(\u001b[49m\n\u001b[1;32m    704\u001b[0m \u001b[43m    \u001b[49m\u001b[43mconn\u001b[49m\u001b[43m,\u001b[49m\n\u001b[1;32m    705\u001b[0m \u001b[43m    \u001b[49m\u001b[43mmethod\u001b[49m\u001b[43m,\u001b[49m\n\u001b[1;32m    706\u001b[0m \u001b[43m    \u001b[49m\u001b[43murl\u001b[49m\u001b[43m,\u001b[49m\n\u001b[1;32m    707\u001b[0m \u001b[43m    \u001b[49m\u001b[43mtimeout\u001b[49m\u001b[38;5;241;43m=\u001b[39;49m\u001b[43mtimeout_obj\u001b[49m\u001b[43m,\u001b[49m\n\u001b[1;32m    708\u001b[0m \u001b[43m    \u001b[49m\u001b[43mbody\u001b[49m\u001b[38;5;241;43m=\u001b[39;49m\u001b[43mbody\u001b[49m\u001b[43m,\u001b[49m\n\u001b[1;32m    709\u001b[0m \u001b[43m    \u001b[49m\u001b[43mheaders\u001b[49m\u001b[38;5;241;43m=\u001b[39;49m\u001b[43mheaders\u001b[49m\u001b[43m,\u001b[49m\n\u001b[1;32m    710\u001b[0m \u001b[43m    \u001b[49m\u001b[43mchunked\u001b[49m\u001b[38;5;241;43m=\u001b[39;49m\u001b[43mchunked\u001b[49m\u001b[43m,\u001b[49m\n\u001b[1;32m    711\u001b[0m \u001b[43m\u001b[49m\u001b[43m)\u001b[49m\n\u001b[1;32m    713\u001b[0m \u001b[38;5;66;03m# If we're going to release the connection in ``finally:``, then\u001b[39;00m\n\u001b[1;32m    714\u001b[0m \u001b[38;5;66;03m# the response doesn't need to know about the connection. Otherwise\u001b[39;00m\n\u001b[1;32m    715\u001b[0m \u001b[38;5;66;03m# it will also try to release it and we'll have a double-release\u001b[39;00m\n\u001b[1;32m    716\u001b[0m \u001b[38;5;66;03m# mess.\u001b[39;00m\n\u001b[1;32m    717\u001b[0m response_conn \u001b[38;5;241m=\u001b[39m conn \u001b[38;5;28;01mif\u001b[39;00m \u001b[38;5;129;01mnot\u001b[39;00m release_conn \u001b[38;5;28;01melse\u001b[39;00m \u001b[38;5;28;01mNone\u001b[39;00m\n",
      "File \u001b[0;32m~/Desktop/year_3_sem_1/Data Science/env/lib/python3.10/site-packages/urllib3/connectionpool.py:449\u001b[0m, in \u001b[0;36mHTTPConnectionPool._make_request\u001b[0;34m(self, conn, method, url, timeout, chunked, **httplib_request_kw)\u001b[0m\n\u001b[1;32m    444\u001b[0m             httplib_response \u001b[38;5;241m=\u001b[39m conn\u001b[38;5;241m.\u001b[39mgetresponse()\n\u001b[1;32m    445\u001b[0m         \u001b[38;5;28;01mexcept\u001b[39;00m \u001b[38;5;167;01mBaseException\u001b[39;00m \u001b[38;5;28;01mas\u001b[39;00m e:\n\u001b[1;32m    446\u001b[0m             \u001b[38;5;66;03m# Remove the TypeError from the exception chain in\u001b[39;00m\n\u001b[1;32m    447\u001b[0m             \u001b[38;5;66;03m# Python 3 (including for exceptions like SystemExit).\u001b[39;00m\n\u001b[1;32m    448\u001b[0m             \u001b[38;5;66;03m# Otherwise it looks like a bug in the code.\u001b[39;00m\n\u001b[0;32m--> 449\u001b[0m             \u001b[43msix\u001b[49m\u001b[38;5;241;43m.\u001b[39;49m\u001b[43mraise_from\u001b[49m\u001b[43m(\u001b[49m\u001b[43me\u001b[49m\u001b[43m,\u001b[49m\u001b[43m \u001b[49m\u001b[38;5;28;43;01mNone\u001b[39;49;00m\u001b[43m)\u001b[49m\n\u001b[1;32m    450\u001b[0m \u001b[38;5;28;01mexcept\u001b[39;00m (SocketTimeout, BaseSSLError, SocketError) \u001b[38;5;28;01mas\u001b[39;00m e:\n\u001b[1;32m    451\u001b[0m     \u001b[38;5;28mself\u001b[39m\u001b[38;5;241m.\u001b[39m_raise_timeout(err\u001b[38;5;241m=\u001b[39me, url\u001b[38;5;241m=\u001b[39murl, timeout_value\u001b[38;5;241m=\u001b[39mread_timeout)\n",
      "File \u001b[0;32m<string>:3\u001b[0m, in \u001b[0;36mraise_from\u001b[0;34m(value, from_value)\u001b[0m\n",
      "File \u001b[0;32m~/Desktop/year_3_sem_1/Data Science/env/lib/python3.10/site-packages/urllib3/connectionpool.py:444\u001b[0m, in \u001b[0;36mHTTPConnectionPool._make_request\u001b[0;34m(self, conn, method, url, timeout, chunked, **httplib_request_kw)\u001b[0m\n\u001b[1;32m    441\u001b[0m \u001b[38;5;28;01mexcept\u001b[39;00m \u001b[38;5;167;01mTypeError\u001b[39;00m:\n\u001b[1;32m    442\u001b[0m     \u001b[38;5;66;03m# Python 3\u001b[39;00m\n\u001b[1;32m    443\u001b[0m     \u001b[38;5;28;01mtry\u001b[39;00m:\n\u001b[0;32m--> 444\u001b[0m         httplib_response \u001b[38;5;241m=\u001b[39m \u001b[43mconn\u001b[49m\u001b[38;5;241;43m.\u001b[39;49m\u001b[43mgetresponse\u001b[49m\u001b[43m(\u001b[49m\u001b[43m)\u001b[49m\n\u001b[1;32m    445\u001b[0m     \u001b[38;5;28;01mexcept\u001b[39;00m \u001b[38;5;167;01mBaseException\u001b[39;00m \u001b[38;5;28;01mas\u001b[39;00m e:\n\u001b[1;32m    446\u001b[0m         \u001b[38;5;66;03m# Remove the TypeError from the exception chain in\u001b[39;00m\n\u001b[1;32m    447\u001b[0m         \u001b[38;5;66;03m# Python 3 (including for exceptions like SystemExit).\u001b[39;00m\n\u001b[1;32m    448\u001b[0m         \u001b[38;5;66;03m# Otherwise it looks like a bug in the code.\u001b[39;00m\n\u001b[1;32m    449\u001b[0m         six\u001b[38;5;241m.\u001b[39mraise_from(e, \u001b[38;5;28;01mNone\u001b[39;00m)\n",
      "File \u001b[0;32m/usr/lib/python3.10/http/client.py:1374\u001b[0m, in \u001b[0;36mHTTPConnection.getresponse\u001b[0;34m(self)\u001b[0m\n\u001b[1;32m   1372\u001b[0m \u001b[38;5;28;01mtry\u001b[39;00m:\n\u001b[1;32m   1373\u001b[0m     \u001b[38;5;28;01mtry\u001b[39;00m:\n\u001b[0;32m-> 1374\u001b[0m         \u001b[43mresponse\u001b[49m\u001b[38;5;241;43m.\u001b[39;49m\u001b[43mbegin\u001b[49m\u001b[43m(\u001b[49m\u001b[43m)\u001b[49m\n\u001b[1;32m   1375\u001b[0m     \u001b[38;5;28;01mexcept\u001b[39;00m \u001b[38;5;167;01mConnectionError\u001b[39;00m:\n\u001b[1;32m   1376\u001b[0m         \u001b[38;5;28mself\u001b[39m\u001b[38;5;241m.\u001b[39mclose()\n",
      "File \u001b[0;32m/usr/lib/python3.10/http/client.py:318\u001b[0m, in \u001b[0;36mHTTPResponse.begin\u001b[0;34m(self)\u001b[0m\n\u001b[1;32m    316\u001b[0m \u001b[38;5;66;03m# read until we get a non-100 response\u001b[39;00m\n\u001b[1;32m    317\u001b[0m \u001b[38;5;28;01mwhile\u001b[39;00m \u001b[38;5;28;01mTrue\u001b[39;00m:\n\u001b[0;32m--> 318\u001b[0m     version, status, reason \u001b[38;5;241m=\u001b[39m \u001b[38;5;28;43mself\u001b[39;49m\u001b[38;5;241;43m.\u001b[39;49m\u001b[43m_read_status\u001b[49m\u001b[43m(\u001b[49m\u001b[43m)\u001b[49m\n\u001b[1;32m    319\u001b[0m     \u001b[38;5;28;01mif\u001b[39;00m status \u001b[38;5;241m!=\u001b[39m CONTINUE:\n\u001b[1;32m    320\u001b[0m         \u001b[38;5;28;01mbreak\u001b[39;00m\n",
      "File \u001b[0;32m/usr/lib/python3.10/http/client.py:279\u001b[0m, in \u001b[0;36mHTTPResponse._read_status\u001b[0;34m(self)\u001b[0m\n\u001b[1;32m    278\u001b[0m \u001b[38;5;28;01mdef\u001b[39;00m \u001b[38;5;21m_read_status\u001b[39m(\u001b[38;5;28mself\u001b[39m):\n\u001b[0;32m--> 279\u001b[0m     line \u001b[38;5;241m=\u001b[39m \u001b[38;5;28mstr\u001b[39m(\u001b[38;5;28;43mself\u001b[39;49m\u001b[38;5;241;43m.\u001b[39;49m\u001b[43mfp\u001b[49m\u001b[38;5;241;43m.\u001b[39;49m\u001b[43mreadline\u001b[49m\u001b[43m(\u001b[49m\u001b[43m_MAXLINE\u001b[49m\u001b[43m \u001b[49m\u001b[38;5;241;43m+\u001b[39;49m\u001b[43m \u001b[49m\u001b[38;5;241;43m1\u001b[39;49m\u001b[43m)\u001b[49m, \u001b[38;5;124m\"\u001b[39m\u001b[38;5;124miso-8859-1\u001b[39m\u001b[38;5;124m\"\u001b[39m)\n\u001b[1;32m    280\u001b[0m     \u001b[38;5;28;01mif\u001b[39;00m \u001b[38;5;28mlen\u001b[39m(line) \u001b[38;5;241m>\u001b[39m _MAXLINE:\n\u001b[1;32m    281\u001b[0m         \u001b[38;5;28;01mraise\u001b[39;00m LineTooLong(\u001b[38;5;124m\"\u001b[39m\u001b[38;5;124mstatus line\u001b[39m\u001b[38;5;124m\"\u001b[39m)\n",
      "File \u001b[0;32m/usr/lib/python3.10/socket.py:705\u001b[0m, in \u001b[0;36mSocketIO.readinto\u001b[0;34m(self, b)\u001b[0m\n\u001b[1;32m    703\u001b[0m \u001b[38;5;28;01mwhile\u001b[39;00m \u001b[38;5;28;01mTrue\u001b[39;00m:\n\u001b[1;32m    704\u001b[0m     \u001b[38;5;28;01mtry\u001b[39;00m:\n\u001b[0;32m--> 705\u001b[0m         \u001b[38;5;28;01mreturn\u001b[39;00m \u001b[38;5;28;43mself\u001b[39;49m\u001b[38;5;241;43m.\u001b[39;49m\u001b[43m_sock\u001b[49m\u001b[38;5;241;43m.\u001b[39;49m\u001b[43mrecv_into\u001b[49m\u001b[43m(\u001b[49m\u001b[43mb\u001b[49m\u001b[43m)\u001b[49m\n\u001b[1;32m    706\u001b[0m     \u001b[38;5;28;01mexcept\u001b[39;00m timeout:\n\u001b[1;32m    707\u001b[0m         \u001b[38;5;28mself\u001b[39m\u001b[38;5;241m.\u001b[39m_timeout_occurred \u001b[38;5;241m=\u001b[39m \u001b[38;5;28;01mTrue\u001b[39;00m\n",
      "File \u001b[0;32m/usr/lib/python3.10/ssl.py:1274\u001b[0m, in \u001b[0;36mSSLSocket.recv_into\u001b[0;34m(self, buffer, nbytes, flags)\u001b[0m\n\u001b[1;32m   1270\u001b[0m     \u001b[38;5;28;01mif\u001b[39;00m flags \u001b[38;5;241m!=\u001b[39m \u001b[38;5;241m0\u001b[39m:\n\u001b[1;32m   1271\u001b[0m         \u001b[38;5;28;01mraise\u001b[39;00m \u001b[38;5;167;01mValueError\u001b[39;00m(\n\u001b[1;32m   1272\u001b[0m           \u001b[38;5;124m\"\u001b[39m\u001b[38;5;124mnon-zero flags not allowed in calls to recv_into() on \u001b[39m\u001b[38;5;132;01m%s\u001b[39;00m\u001b[38;5;124m\"\u001b[39m \u001b[38;5;241m%\u001b[39m\n\u001b[1;32m   1273\u001b[0m           \u001b[38;5;28mself\u001b[39m\u001b[38;5;241m.\u001b[39m\u001b[38;5;18m__class__\u001b[39m)\n\u001b[0;32m-> 1274\u001b[0m     \u001b[38;5;28;01mreturn\u001b[39;00m \u001b[38;5;28;43mself\u001b[39;49m\u001b[38;5;241;43m.\u001b[39;49m\u001b[43mread\u001b[49m\u001b[43m(\u001b[49m\u001b[43mnbytes\u001b[49m\u001b[43m,\u001b[49m\u001b[43m \u001b[49m\u001b[43mbuffer\u001b[49m\u001b[43m)\u001b[49m\n\u001b[1;32m   1275\u001b[0m \u001b[38;5;28;01melse\u001b[39;00m:\n\u001b[1;32m   1276\u001b[0m     \u001b[38;5;28;01mreturn\u001b[39;00m \u001b[38;5;28msuper\u001b[39m()\u001b[38;5;241m.\u001b[39mrecv_into(buffer, nbytes, flags)\n",
      "File \u001b[0;32m/usr/lib/python3.10/ssl.py:1130\u001b[0m, in \u001b[0;36mSSLSocket.read\u001b[0;34m(self, len, buffer)\u001b[0m\n\u001b[1;32m   1128\u001b[0m \u001b[38;5;28;01mtry\u001b[39;00m:\n\u001b[1;32m   1129\u001b[0m     \u001b[38;5;28;01mif\u001b[39;00m buffer \u001b[38;5;129;01mis\u001b[39;00m \u001b[38;5;129;01mnot\u001b[39;00m \u001b[38;5;28;01mNone\u001b[39;00m:\n\u001b[0;32m-> 1130\u001b[0m         \u001b[38;5;28;01mreturn\u001b[39;00m \u001b[38;5;28;43mself\u001b[39;49m\u001b[38;5;241;43m.\u001b[39;49m\u001b[43m_sslobj\u001b[49m\u001b[38;5;241;43m.\u001b[39;49m\u001b[43mread\u001b[49m\u001b[43m(\u001b[49m\u001b[38;5;28;43mlen\u001b[39;49m\u001b[43m,\u001b[49m\u001b[43m \u001b[49m\u001b[43mbuffer\u001b[49m\u001b[43m)\u001b[49m\n\u001b[1;32m   1131\u001b[0m     \u001b[38;5;28;01melse\u001b[39;00m:\n\u001b[1;32m   1132\u001b[0m         \u001b[38;5;28;01mreturn\u001b[39;00m \u001b[38;5;28mself\u001b[39m\u001b[38;5;241m.\u001b[39m_sslobj\u001b[38;5;241m.\u001b[39mread(\u001b[38;5;28mlen\u001b[39m)\n",
      "\u001b[0;31mKeyboardInterrupt\u001b[0m: "
     ]
    }
   ],
   "source": [
    "# run this block if there isn't an existing json file of geo location for hdb location\n",
    "\n",
    "# convert address column to list and unique it\n",
    "addresses = hdb_data['address'].unique().tolist()\n",
    "print(len(addresses))\n",
    "\n",
    "# dict to store the json object\n",
    "# the address as the key and json object as the value\n",
    "hdb_geo_location = {}\n",
    "\n",
    "# call one time as it takes too long to fetch that much data from api\n",
    "for address in addresses:\n",
    "    json_result = get_geo_location(address)\n",
    "    # if the location of the address is not found, get the location of the street name \n",
    "    # there are still some street name that cannot be found through this api \n",
    "    hdb_geo_location[address] = json_result if json_result.get('found') > 0 else get_geo_location(address.split(' ',1)[1])\n",
    "\n",
    "# store it in json for subsequent use as data of geo location is constant and will not change unless there is new address    \n",
    "with open('hdbGeoLocation.json', 'w') as json_file:\n",
    "    json.dump(hdb_geo_location,json_file)\n"
   ]
  },
  {
   "cell_type": "code",
   "execution_count": null,
   "id": "120957bb",
   "metadata": {},
   "outputs": [],
   "source": [
    "# run this block if there isn't an existing json file of geo location for mrt location\n",
    "\n",
    "# https://docs.google.com/spreadsheets/d/1Ef9zETaV6mNtfRlw7iq8oyJqt1qKYTMozRqgF7nvNJM/edit?usp=sharing\n",
    "# this csv I exported the data from wikipedia by using googlesheet and putting \n",
    "# =IMPORTHTML(\"https://en.wikipedia.org/wiki/List_of_Singapore_MRT_stations\",\"table\",3) in the cell to import the table\n",
    "# I followed this guide to fill up the merge data https://www.extendoffice.com/documents/excel/1955-excel-filter-merged-cells.html\n",
    "# create a new csv file and take existing station name by filtering the Opening column with value before 2023 \n",
    "mrt_stations = pd.read_csv('./MRTStations.csv', encoding= 'unicode_escape')\n",
    "\n",
    "# have to unique the station name as there are duplicates\n",
    "mrt_stations=mrt_stations['Station name'].unique()\n",
    "mrt_stations_geo_location = {}\n",
    "\n",
    "for mrt_station in mrt_stations:\n",
    "    # There are station that contain this special characters\n",
    "    if(\" \\x95\" in mrt_station):\n",
    "        print(mrt_station)\n",
    "        mrt_station = mrt_station.split(\" \\x95\")[0] + \" MRT STATION\"\n",
    "        mrt_stations_geo_location[mrt_station]=get_geo_location(mrt_station)\n",
    "    else:\n",
    "        mrt_stations_geo_location[mrt_station]=get_geo_location(mrt_station + \" MRT STATION\")\n",
    "\n",
    "# store it in json for subsequent use as data of geo location is constant and will not change unless there is new address    \n",
    "with open('mrtStationGeoLocation.json', 'w') as json_file:\n",
    "    json.dump(mrt_stations_geo_location,json_file)"
   ]
  },
  {
   "cell_type": "code",
   "execution_count": null,
   "id": "e50e2038",
   "metadata": {
    "scrolled": true
   },
   "outputs": [],
   "source": [
    "# run this block if there is an existing json file of geo location for hdb location\n",
    "hdb_geo_json = pd.read_json('./hdbGeoLocation.json')\n",
    "hdb_geo={}\n",
    "\n",
    "for street_name in hdb_geo_json.keys():\n",
    "    # if address not found set as None\n",
    "    if hdb_geo_json.get(street_name).get('found') == 0:\n",
    "        hdb_geo[street_name]=None\n",
    "        break\n",
    "    # if exists, get the latitude and longitude of the first result\n",
    "    hdb_geo[street_name] = {'lat':float(hdb_geo_json.get(street_name).get('results')[0].get('LATITUDE')),'long':float(hdb_geo_json.get(street_name).get('results')[0].get('LONGITUDE'))} \n",
    "\n",
    "# print a sample of the dict\n",
    "print(list(hdb_geo.items())[0])"
   ]
  },
  {
   "cell_type": "code",
   "execution_count": null,
   "id": "eeddec2b",
   "metadata": {
    "scrolled": true
   },
   "outputs": [],
   "source": [
    "# run this block if there is an existing json file of geo location for hdb location\n",
    "mrt_stations_geo = pd.read_json('./mrtStationGeoLocation.json')\n",
    "mrt_geo={}\n",
    "\n",
    "for mrt_station in mrt_stations_geo.keys():\n",
    "    # if address not found set as None\n",
    "    if mrt_stations_geo.get(mrt_station).get('found') == 0:\n",
    "        mrt_geo[mrt_station]=None\n",
    "        break\n",
    "    # if exists, get the latitude and longitude of the first result\n",
    "    mrt_geo[mrt_station] = {'lat':float(mrt_stations_geo.get(mrt_station).get('results')[0].get('LATITUDE')),'long':float(mrt_stations_geo.get(mrt_station).get('results')[0].get('LONGITUDE'))} \n",
    "\n",
    "print(list(mrt_geo.items())[0])"
   ]
  },
  {
   "cell_type": "markdown",
   "id": "aeca4b0f",
   "metadata": {},
   "source": [
    "#### Find The Nearest MRT Station Distance And CBD Distance Of An Address "
   ]
  },
  {
   "cell_type": "code",
   "execution_count": null,
   "id": "76efa9c1",
   "metadata": {},
   "outputs": [],
   "source": [
    "# Calculate the distance with 2 coordinates\n",
    "# https://stackoverflow.com/questions/27928/calculate-distance-between-two-latitude-longitude-points-haversine-formula\n",
    "def calculate_distance(lat1, lon1, lat2, lon2):\n",
    "    p = pi/180\n",
    "    a = 0.5 - cos((lat2-lat1)*p)/2 + cos(lat1*p) * cos(lat2*p) * (1-cos((lon2-lon1)*p))/2\n",
    "    return 12742 * asin(sqrt(a)) #2*R*asin...\n"
   ]
  },
  {
   "attachments": {
    "image.png": {
     "image/png": "[encoded data removed]"
    }
   },
   "cell_type": "markdown",
   "id": "1617e9ab",
   "metadata": {},
   "source": [
    "![image.png](attachment:image.png)\n"
   ]
  },
  {
   "cell_type": "code",
   "execution_count": null,
   "id": "b34ad73e",
   "metadata": {
    "scrolled": false
   },
   "outputs": [],
   "source": [
    "hdb_distance_from_mrt_and_cbd = []\n",
    "\n",
    "# The coordinates for downtown core based on the screenshot above \n",
    "cbd_area_lat_long = {'lat':1.287953, 'long':103.851784}\n",
    "\n",
    "# Loop through the street_name which is the key\n",
    "for address in hdb_geo.keys():\n",
    "    # if the address does not have coordinates, set the dist_to_mrt and dist_to_cbd to nan\n",
    "    if hdb_geo[address] == None:\n",
    "        print(address)\n",
    "        hdb_distance_from_mrt_and_cbd.append({'address':address,'dist_to_mrt':np.nan, 'dist_to_cbd':np.nan})\n",
    "        break\n",
    "    mrt_distance_list = []\n",
    "    \n",
    "    for mrt_station in mrt_geo.keys():\n",
    "        # calculate the distance between the address and all the mrt station \n",
    "        mrt_distance_list.append(calculate_distance(hdb_geo[address].get('lat'),hdb_geo[address].get('long'),mrt_geo[mrt_station].get('lat'),mrt_geo[mrt_station].get('long')))\n",
    "    \n",
    "    # get the lowest value of the mrt distance which imply the nearest station from that location\n",
    "    # calculate the distance between the address and cbd coordinate\n",
    "    hdb_distance_from_mrt_and_cbd.append({'address':address,'dist_to_mrt':min(mrt_distance_list),'dist_to_cbd':calculate_distance(hdb_geo[address].get('lat'),hdb_geo[address].get('long'),cbd_area_lat_long.get('lat'),cbd_area_lat_long.get('long'))})\n",
    "\n",
    "# convert the list of dict into dataframe\n",
    "hdb_distance_df = pd.DataFrame.from_dict(hdb_distance_from_mrt_and_cbd)\n",
    "print(hdb_distance_df.head())"
   ]
  },
  {
   "cell_type": "markdown",
   "id": "8d4adfda",
   "metadata": {},
   "source": [
    "#### Combine The  Distance DataFrame And Change Number Field To Int And Float"
   ]
  },
  {
   "cell_type": "code",
   "execution_count": null,
   "id": "a60238c6",
   "metadata": {},
   "outputs": [],
   "source": [
    "combined_df = hdb_distance_df.merge(hdb_data, on=\"address\", how='outer')\n",
    "\n",
    "# Converting to the right data types\n",
    "combined_df['resale_price'] = combined_df['resale_price'].astype('float')\n",
    "combined_df['floor_area_sqm'] = combined_df['floor_area_sqm'].astype('float')\n",
    "\n",
    "combined_df['lease_commence_date'] = combined_df['lease_commence_date'].astype('int64')\n",
    "combined_df['sales_year']=combined_df['month'].str.split('-').str[0].astype(int)\n",
    "combined_df['remaining_lease'] = 99- combined_df['sales_year'].subtract(combined_df['lease_commence_date'])\n",
    "combined_df['price_per_sqm'] = combined_df['resale_price'].div(combined_df['floor_area_sqm'])\n",
    "combined_df.columns\n",
    "combined_df.dropna(axis=0,inplace=True)\n",
    "\n",
    "print(len(combined_df))"
   ]
  },
  {
   "cell_type": "markdown",
   "id": "4213ea8e",
   "metadata": {},
   "source": [
    "## Statistical Summary"
   ]
  },
  {
   "cell_type": "code",
   "execution_count": null,
   "id": "b35fab4e",
   "metadata": {
    "scrolled": false
   },
   "outputs": [],
   "source": [
    "combined_df.describe().apply(lambda s: s.apply('{0:.2f}'.format))"
   ]
  },
  {
   "cell_type": "markdown",
   "id": "c453a0db",
   "metadata": {},
   "source": [
    "#### Measure Of Central Tendency "
   ]
  },
  {
   "cell_type": "code",
   "execution_count": null,
   "id": "3d599632",
   "metadata": {},
   "outputs": [],
   "source": [
    "# create a 3x2 plot with 20,20 size\n",
    "fig, axes = plt.subplots(nrows=3, ncols=2, figsize=(20, 20))\n",
    "\n",
    "# dict containing histogram data\n",
    "# 3x2 list structure\n",
    "data_to_display = [\n",
    "                   [{'bins':np.arange(combined_df['dist_to_mrt'].min(), combined_df['dist_to_mrt'].max()),\n",
    "                    'data':combined_df['dist_to_mrt'],\n",
    "                    'median':round(combined_df['dist_to_mrt'].median(),2),\n",
    "                    'mode':round(combined_df['dist_to_mrt'].mode(),2)[0],\n",
    "                    'mean':round(combined_df['dist_to_mrt'].mean(),2),\n",
    "                    'label_median':'Distance To Nearest MRT Median',\n",
    "                    'xy_median':(combined_df['dist_to_mrt'].median(),400000),\n",
    "                    'xytext_median':(combined_df['dist_to_mrt'].median()+0.5,400000),\n",
    "                    'label_mode':'Distance To Nearest MRT Mode',\n",
    "                    'xy_mode':(combined_df['dist_to_mrt'].mode()[0],430000),\n",
    "                    'xytext_mode':(combined_df['dist_to_mrt'].mode()[0]+0.5,430000),\n",
    "                    'label_mean':'Distance To Nearest MRT Mean',\n",
    "                    'xy_mean':(combined_df['dist_to_mrt'].mean(),460000),\n",
    "                    'xytext_mean':(combined_df['dist_to_mrt'].mean()+0.5,460000),\n",
    "                    'title': 'Histogram Of Distance To Nearest MRT Station',\n",
    "                    'xlabel':'Distance (km)',\n",
    "                    'ylabel':'Number Of HDB'\n",
    "                   },\n",
    "                   {'bins':np.arange(combined_df['dist_to_cbd'].min(), combined_df['dist_to_cbd'].max()),\n",
    "                    'data':combined_df['dist_to_cbd'],\n",
    "                    'median':round(combined_df['dist_to_cbd'].median(),2),\n",
    "                    'mode':round(combined_df['dist_to_cbd'].mode(),2)[0],\n",
    "                    'mean':round(combined_df['dist_to_cbd'].mean(),2),\n",
    "                    'label_median':'Distance To CBD Area Median',\n",
    "                    'xy_median':(combined_df['dist_to_cbd'].median(),70000),\n",
    "                    'xytext_median':(combined_df['dist_to_cbd'].median()+2.5,70000),\n",
    "                    'label_mode':'Distance To CBD Area Mode',\n",
    "                    'xy_mode':(combined_df['dist_to_cbd'].mode()[0],76000),\n",
    "                    'xytext_mode':(combined_df['dist_to_cbd'].mode()[0]+2.5,76000),\n",
    "                    'label_mean':'Distance To CBD Area Mean',\n",
    "                    'xy_mean':(combined_df['dist_to_cbd'].mean(),76000),\n",
    "                    'xytext_mean':(combined_df['dist_to_cbd'].mean()-10,76000),\n",
    "                    'title': 'Histogram Of Distance To CBD Area',\n",
    "                    'xlabel':'Distance (km)',\n",
    "                    'ylabel':'Number Of HDB'\n",
    "                   }],\n",
    "                    [{'bins':np.arange(combined_df['floor_area_sqm'].min(), combined_df['floor_area_sqm'].max()),\n",
    "                    'data':combined_df['floor_area_sqm'],\n",
    "                    'median':round(combined_df['floor_area_sqm'].median(),2),\n",
    "                    'mode':round(combined_df['floor_area_sqm'].mode(),2)[0],\n",
    "                    'mean':round(combined_df['floor_area_sqm'].mean(),2),\n",
    "                    'label_median':'Floor Area Median',\n",
    "                    'xy_median':(combined_df['floor_area_sqm'].median(),50000),\n",
    "                    'xytext_median':(combined_df['floor_area_sqm'].median()+25,50000),\n",
    "                    'label_mode':'Floor Area Mode',\n",
    "                    'xy_mode':(combined_df['floor_area_sqm'].mode()[0],53000),\n",
    "                    'xytext_mode':(combined_df['floor_area_sqm'].mode()[0]-50,53000),\n",
    "                    'label_mean':'Floor Area Mean',\n",
    "                    'xy_mean':(combined_df['floor_area_sqm'].mean(),56000),\n",
    "                    'xytext_mean':(combined_df['floor_area_sqm'].mean()+25,56000),\n",
    "                    'title': 'Histogram Of Floor Area Of HDB',\n",
    "                    'xlabel':'Floor Area (sqm)',\n",
    "                    'ylabel':'Number Of HDB'\n",
    "                   },\n",
    "                   {'bins':np.arange(combined_df['remaining_lease'].min(), combined_df['remaining_lease'].max()),\n",
    "                    'data':combined_df['remaining_lease'],\n",
    "                    'median':round(combined_df['remaining_lease'].median(),2),\n",
    "                    'mode':round(combined_df['remaining_lease'].mode(),2)[0],\n",
    "                    'mean':round(combined_df['remaining_lease'].mean(),2),\n",
    "                    'label_median':'Remaining Lease Median',\n",
    "                    'xy_median':(combined_df['remaining_lease'].median(),40000),\n",
    "                    'xytext_median':(combined_df['remaining_lease'].median()-30,40000),\n",
    "                    'label_mode':'Remaining Lease Mode',\n",
    "                    'xy_mode':(combined_df['remaining_lease'].mode()[0],43000),\n",
    "                    'xytext_mode':(combined_df['remaining_lease'].mode()[0]-30,43000),\n",
    "                    'label_mean':'Remaining Lease Mean',\n",
    "                    'xy_mean':(combined_df['remaining_lease'].mean(),37000),\n",
    "                    'xytext_mean':(combined_df['remaining_lease'].mean()-30,37000),\n",
    "                    'title': 'Histogram Of Remaining Lease',\n",
    "                    'xlabel':'Remaining Lease (years)',\n",
    "                    'ylabel':'Number Of HDB'\n",
    "                   }],\n",
    "                    [{'bins':np.arange(combined_df['resale_price'].min(), combined_df['resale_price'].max(),100000),\n",
    "                    'data':combined_df['resale_price'],\n",
    "                    'median':round(combined_df['resale_price'].median(),2),\n",
    "                    'mode':round(combined_df['resale_price'].mode(),2)[0],\n",
    "                    'mean':round(combined_df['resale_price'].mean(),2),\n",
    "                    'label_median':'Resale Price Median',\n",
    "                    'xy_median':(combined_df['resale_price'].median(),150000),\n",
    "                    'xytext_median':(combined_df['resale_price'].median()+130000,150000),\n",
    "                    'label_mode':'Resale Price Mode',\n",
    "                    'xy_mode':(combined_df['resale_price'].mode()[0],170000),\n",
    "                    'xytext_mode':(combined_df['resale_price'].mode()[0]+130000,170000),\n",
    "                    'label_mean':'Resale Price Mean',\n",
    "                    'xy_mean':(combined_df['resale_price'].mean(),190000),\n",
    "                    'xytext_mean':(combined_df['resale_price'].mean()+130000,190000),\n",
    "                    'title': 'Histogram Of Resale Price Of HDB',\n",
    "                    'xlabel':'Resale Price ($)',\n",
    "                    'ylabel':'Number Of HDB'\n",
    "                   },\n",
    "                   {'bins':np.arange(combined_df['price_per_sqm'].min(), combined_df['price_per_sqm'].max()),\n",
    "                    'data':combined_df['price_per_sqm'],\n",
    "                    'median':round(combined_df['price_per_sqm'].median(),2),\n",
    "                    'mode':round(combined_df['price_per_sqm'].mode(),2)[0],\n",
    "                    'mean':round(combined_df['price_per_sqm'].mean(),2),\n",
    "                    'label_median':'Price Per Square Meter Median',\n",
    "                    'xy_median':(combined_df['price_per_sqm'].median(),3500),\n",
    "                    'xytext_median':(combined_df['price_per_sqm'].median()+1000,3500),\n",
    "                    'label_mode':'Price Per Square Meter Mode',\n",
    "                    'xy_mode':(combined_df['price_per_sqm'].mode()[0],3800),\n",
    "                    'xytext_mode':(combined_df['price_per_sqm'].mode()[0]+1000,3800),\n",
    "                    'label_mean':'Price Per Square Meter Mean',\n",
    "                    'xy_mean':(combined_df['price_per_sqm'].mean(),4100),\n",
    "                    'xytext_mean':(combined_df['price_per_sqm'].mean()+1000,4100),\n",
    "                    'title': 'Histogram Of Price Per Square Meter',\n",
    "                    'xlabel':'Price Per Square Meter ($)',\n",
    "                    'ylabel':'Number Of HDB'\n",
    "                   }],\n",
    "    \n",
    "]\n",
    "\n",
    "for outer_index, data_list in enumerate(data_to_display):\n",
    "    for inner_index, fields in enumerate(data_list):\n",
    "        # get a specific axes\n",
    "        ax = axes[outer_index][inner_index]\n",
    "        # get the data from fields\n",
    "        data=fields['data']\n",
    "        # get the median from fields\n",
    "        data_median = fields['median']\n",
    "        # get the mode from fields\n",
    "        data_mode=fields['mode']\n",
    "        # get the mean from fields\n",
    "        data_mean=fields['mean']\n",
    "        \n",
    "        # create histogram and set the number of bins and it's range\n",
    "        ax.hist(data,bins=fields['bins'],edgecolor=\"black\", range=[data.min(), data.max()])\n",
    "        \n",
    "        # draw vertical dotted line\n",
    "        ax.axvline(data_median, color=\"orange\", linestyle='dashed', label=fields['label_median'], linewidth=2)\n",
    "        # create annotation in the chart \n",
    "        ax.annotate('median={median}'.format(median=data_median), xy=fields['xy_median'], xytext=fields['xytext_median'],arrowprops=dict(facecolor='black',shrink=0.05))\n",
    "        \n",
    "        # draw vertical dotted line\n",
    "        ax.axvline(data_mode, color=\"red\", linestyle='dashed', label=fields['label_mode'], linewidth=2)\n",
    "        # create annotation in the chart \n",
    "        ax.annotate('mode={mode}'.format(mode=data_mode), xy=fields['xy_mode'], xytext=fields['xytext_mode'],arrowprops=dict(facecolor='black',shrink=0.05))\n",
    "        \n",
    "        # draw vertical dotted line\n",
    "        ax.axvline(data_mean, color=\"black\", linestyle='dashed', label=fields['label_mean'], linewidth=2)\n",
    "        # create annotation in the chart \n",
    "        ax.annotate('mean={mean}'.format(mean=data_mean), xy=fields['xy_mean'], xytext=fields['xytext_mean'],arrowprops=dict(facecolor='black',shrink=0.05))\n",
    "        \n",
    "        # create legend to label the dotted line for top right corner of the chart\n",
    "        ax.legend()\n",
    "        \n",
    "        # set chart title\n",
    "        ax.set_title(fields['title'])\n",
    "        # set x axis label\n",
    "        ax.set_xlabel(fields['xlabel'])\n",
    "        # set y axis label\n",
    "        ax.set_ylabel(fields['ylabel'])\n",
    "        # set tick format to plain, default is scientific notation\n",
    "        ax.ticklabel_format(style=\"plain\")\n",
    "\n",
    "plt.show()\n",
    "        "
   ]
  },
  {
   "cell_type": "markdown",
   "id": "87b5b596",
   "metadata": {},
   "source": [
    "#### Measures of spread"
   ]
  },
  {
   "cell_type": "code",
   "execution_count": null,
   "id": "edd6e69a",
   "metadata": {},
   "outputs": [],
   "source": [
    "# Get the iqr for those numeric fields\n",
    "iqr = {\n",
    "    'dist_to_mrt':np.subtract(*np.percentile(combined_df['dist_to_mrt'], [75, 25])),\n",
    "    'dist_to_cbd':np.subtract(*np.percentile(combined_df['dist_to_cbd'], [75, 25])),\n",
    "    'floor_area_sqm':np.subtract(*np.percentile(combined_df['floor_area_sqm'], [75, 25])),\n",
    "    'remaining_lease':np.subtract(*np.percentile(combined_df['remaining_lease'], [75, 25])),\n",
    "    'resale_price':np.subtract(*np.percentile(combined_df['resale_price'], [75, 25])),\n",
    "    'price_per_sqm':np.subtract(*np.percentile(combined_df['price_per_sqm'], [75, 25])),\n",
    "}\n",
    "print(iqr)"
   ]
  },
  {
   "cell_type": "code",
   "execution_count": null,
   "id": "d575d5cb",
   "metadata": {
    "scrolled": false
   },
   "outputs": [],
   "source": [
    "# create a 3x2 plot with 20,20 size\n",
    "box_fig, box_axes = plt.subplots(nrows=3, ncols=2, figsize=(20, 20))\n",
    "\n",
    "# plot box plot\n",
    "box_axes[0][0].set_title('Distance To MRT Station')\n",
    "box_axes[0][0].boxplot(combined_df['dist_to_mrt'])\n",
    "\n",
    "box_axes[0][1].set_title('Distance To CBD Area')\n",
    "box_axes[0][1].boxplot(combined_df['dist_to_cbd'])\n",
    "\n",
    "box_axes[1][0].set_title('Floor Area sqm')\n",
    "box_axes[1][0].boxplot(combined_df['floor_area_sqm'])\n",
    "\n",
    "box_axes[1][1].set_title('Remaining Lease')\n",
    "box_axes[1][1].boxplot(combined_df['remaining_lease'])\n",
    "\n",
    "box_axes[2][0].set_title('Resale Price')\n",
    "box_axes[2][0].boxplot(combined_df['resale_price'])\n",
    "\n",
    "box_axes[2][1].set_title('Price Per sqm')\n",
    "box_axes[2][1].boxplot(combined_df['price_per_sqm'])\n",
    "\n",
    "plt.show()"
   ]
  },
  {
   "cell_type": "markdown",
   "id": "62aa3620",
   "metadata": {},
   "source": [
    "#### Type of distribution"
   ]
  },
  {
   "cell_type": "code",
   "execution_count": null,
   "id": "7f755bda",
   "metadata": {},
   "outputs": [],
   "source": [
    "from scipy import stats\n",
    "\n",
    "def get_skewness(data):\n",
    "    return data.skew().round(2)\n",
    "\n",
    "def get_kurtosis(data):\n",
    "    return data.kurtosis().round(2)\n",
    "\n",
    "# dict containing data and plot coordinates for text\n",
    "# 3x2 list structure\n",
    "data_to_plot = [\n",
    "                   [{'data':combined_df['dist_to_mrt'],\n",
    "                    'title':'Distance To Nearest MRT Station Distribution',\n",
    "                    'skew_text_position': (2.5,0.8),\n",
    "                    'kurtosis_text_position': (2.5,0.78)\n",
    "                    },\n",
    "                   {'data':combined_df['dist_to_cbd'],\n",
    "                    'title':'Distance To CBD Area Distribution',\n",
    "                    'skew_text_position': (3,0.08),\n",
    "                    'kurtosis_text_position': (3,0.078)\n",
    "                   }],\n",
    "                    [{'data':combined_df['floor_area_sqm'],\n",
    "                    'title':'Floor Area Distribution',\n",
    "                    'skew_text_position': (25,0.012),\n",
    "                    'kurtosis_text_position': (25,0.0118)\n",
    "                   },\n",
    "                   {'data':combined_df['remaining_lease'],\n",
    "                    'title': 'Remaining Lease Distribution',\n",
    "                    'skew_text_position': (60,0.03),\n",
    "                    'kurtosis_text_position': (60,0.0295)\n",
    "                   }],\n",
    "                    [{'data':combined_df['resale_price'],\n",
    "                    'title': 'Resale Price Of HDB Distribution',\n",
    "                    'skew_text_position': (40000,0.0000015),\n",
    "                    'kurtosis_text_position': (40000,0.00000145)\n",
    "                   },\n",
    "                   {'data':combined_df['price_per_sqm'],\n",
    "                    'title': 'Price Per Square Meter Distribution',\n",
    "                    'skew_text_position': (600,0.00015),\n",
    "                    'kurtosis_text_position': (600,0.000145)\n",
    "                   }],\n",
    "]\n",
    "    \n",
    "# create a 3x2 plot with 60,60 size\n",
    "skew_fig, skew_axes = plt.subplots(nrows=3, ncols=2, figsize=(20, 20))\n",
    "\n",
    "for outer_index, data_list in enumerate(data_to_plot):\n",
    "    for inner_index, fields in enumerate(data_list):\n",
    "        ax = skew_axes[outer_index][inner_index]\n",
    "        data=fields['data']\n",
    "        ax.hist(data,density=True)\n",
    "\n",
    "        param = stats.norm.fit(data)\n",
    "        x = np.linspace(data.min(),data.max(),len(data))\n",
    "        pdf_fitted = stats.norm.pdf(x, *param) \n",
    "\n",
    "        ax.plot(x,pdf_fitted)\n",
    "\n",
    "        ax.annotate(f'skew = {get_skewness(data)}', xy=fields['skew_text_position'])\n",
    "        ax.annotate(f'kurtosis = {get_kurtosis(data)}', xy=fields['kurtosis_text_position'])\n",
    "\n",
    "        ax.set_title(fields['title'])\n",
    "        ax.set_ylabel('density')\n",
    "        ax.ticklabel_format(style=\"plain\")\n",
    "        \n",
    "plt.show()"
   ]
  },
  {
   "cell_type": "code",
   "execution_count": null,
   "id": "de45261e",
   "metadata": {},
   "outputs": [],
   "source": []
  },
  {
   "cell_type": "code",
   "execution_count": null,
   "id": "e5cd4536",
   "metadata": {
    "scrolled": false
   },
   "outputs": [],
   "source": [
    "corrMatrix = combined_df.corr(numeric_only=True)\n",
    "sns.heatmap(corrMatrix, \n",
    "        xticklabels=corrMatrix.columns,\n",
    "        yticklabels=corrMatrix.columns,\n",
    "        cmap='coolwarm',\n",
    "        annot=True)"
   ]
  },
  {
   "cell_type": "code",
   "execution_count": null,
   "id": "bde272e4",
   "metadata": {},
   "outputs": [],
   "source": [
    "category_features = ['flat_type', 'storey_range']\n",
    "numerical_features = ['floor_area_sqm','price_per_sqm','dist_to_mrt','dist_to_cbd','flat_type_mapped','mean_storey','month']\n",
    "flat_type_map = {\n",
    "    'EXECUTIVE': 7,\n",
    "    'MULTI GENERATION': 6,\n",
    "    'MULTI-GENERATION': 6,\n",
    "    '5 ROOM': 5,\n",
    "    '4 ROOM': 4,\n",
    "    '3 ROOM': 3,\n",
    "    '2 ROOM': 2,\n",
    "    '1 ROOM': 1\n",
    "}\n",
    "\n",
    "combined_df['flat_type_mapped'] = combined_df['flat_type'].map(lambda x: flat_type_map[x])\n",
    "combined_df['mean_storey'] = combined_df['storey_range'].map(lambda storey: float(storey.split(' TO ')[0])+float(storey.split(' TO ')[1]) )"
   ]
  },
  {
   "cell_type": "code",
   "execution_count": null,
   "id": "3fa18c7b",
   "metadata": {},
   "outputs": [],
   "source": [
    "\n",
    "\n",
    "X=combined_df[numerical_features]\n",
    "y=combined_df['resale_price'] #resale_price is at the last column of the latest dataset\n",
    "X_train, X_test, y_train, y_test = train_test_split(X,y,random_state=42,test_size=0.25)\n",
    "x_axis = X_train['month'].str.split('-').str[0].astype(int).values.reshape(-1,1)\n",
    "X_train.drop('month',inplace=True, axis=1)\n",
    "X_test.drop('month',inplace=True, axis=1)\n",
    "model = LinearRegression().fit(X_train,y_train)\n",
    "\n",
    "y_train_pred = model.predict(X_train)\n",
    "\n",
    "model.score(X_train, y_train)"
   ]
  },
  {
   "cell_type": "code",
   "execution_count": null,
   "id": "ed7b2aae",
   "metadata": {},
   "outputs": [],
   "source": [
    "from sklearn.metrics import mean_squared_error,r2_score\n",
    "\n",
    "#y1_preds = model.fit(X_test,y_test).predict(X_train)\n",
    "#y2_preds = model.fit(X_train,y_train).predict(X_test)\n",
    "y_test_pred = model.predict(X_test)\n",
    "print(r2_score(y_test,y_test_pred))\n",
    "\n",
    "mean_squared_error(y_train,y_train_pred, squared=False),mean_squared_error(y_test,y_test_pred, squared=False)"
   ]
  },
  {
   "cell_type": "code",
   "execution_count": null,
   "id": "dfe8b7cf",
   "metadata": {},
   "outputs": [],
   "source": [
    "print(x_axis)"
   ]
  },
  {
   "cell_type": "code",
   "execution_count": null,
   "id": "5149eda1",
   "metadata": {},
   "outputs": [],
   "source": [
    "\n",
    "mpl.rcParams['agg.path.chunksize'] = 10000\n",
    "\n",
    "years=combined_df['month'].str.split('-').str[0].astype(int).values.reshape(-1,1)\n",
    "plt.scatter(years,y)\n",
    "plt.plot( x_axis,y_train_pred, color='black', linewidth=2, label=\"Prediction\")"
   ]
  },
  {
   "cell_type": "code",
   "execution_count": null,
   "id": "9a35822b",
   "metadata": {},
   "outputs": [],
   "source": [
    "print(model.score(X_test,y_test))"
   ]
  },
  {
   "cell_type": "code",
   "execution_count": null,
   "id": "64966103",
   "metadata": {},
   "outputs": [],
   "source": [
    "\n",
    "\n",
    "y1_preds = model.fit(X_test,y_test).predict(X_train)\n",
    "y2_preds = model.fit(X_train,y_train).predict(X_test)\n",
    "\n",
    "mean_squared_error(y_train,y1_preds, squared=False), mean_squared_error(y_test,y2_preds, squared=False)"
   ]
  },
  {
   "cell_type": "code",
   "execution_count": null,
   "id": "9ac34aad",
   "metadata": {},
   "outputs": [],
   "source": []
  }
 ],
 "metadata": {
  "kernelspec": {
   "display_name": "Python 3 (ipykernel)",
   "language": "python",
   "name": "python3"
  },
  "language_info": {
   "codemirror_mode": {
    "name": "ipython",
    "version": 3
   },
   "file_extension": ".py",
   "mimetype": "text/x-python",
   "name": "python",
   "nbconvert_exporter": "python",
   "pygments_lexer": "ipython3",
   "version": "3.10.6"
  }
 },
 "nbformat": 4,
 "nbformat_minor": 5
}
