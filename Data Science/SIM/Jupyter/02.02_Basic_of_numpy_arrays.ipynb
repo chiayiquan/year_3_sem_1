{
 "cells": [
  {
   "cell_type": "code",
   "execution_count": 2,
   "id": "5efaeb57",
   "metadata": {},
   "outputs": [],
   "source": [
    "import numpy as np\n",
    "np.random.seed(0)\n",
    "\n",
    "x1 = np.random.randint(10,size=6) # One- dimensional array\n",
    "x2 = np.random.randint(10,size=(3,4)) # Two- dimensional array\n",
    "x3 = np.random.randint(10,size=(3,4,5)) # Three- dimensional array"
   ]
  },
  {
   "cell_type": "code",
   "execution_count": 3,
   "id": "77efb562",
   "metadata": {},
   "outputs": [
    {
     "name": "stdout",
     "output_type": "stream",
     "text": [
      "x3 ndim:  3\n"
     ]
    }
   ],
   "source": [
    "print(\"x3 ndim: \", x3.ndim)\n",
    "print(\"x3 shape: \", )"
   ]
  },
  {
   "cell_type": "markdown",
   "id": "d9f89f26",
   "metadata": {},
   "source": [
    "Numpy array slicing differs from Python list slicing: in lists, slices will be copies. Consider our two-dimensional array from before:"
   ]
  },
  {
   "cell_type": "code",
   "execution_count": 4,
   "id": "50366d6c",
   "metadata": {
    "scrolled": true
   },
   "outputs": [
    {
     "name": "stdout",
     "output_type": "stream",
     "text": [
      "[[3 5 2 4]\n",
      " [7 6 8 8]\n",
      " [1 6 7 7]]\n"
     ]
    }
   ],
   "source": [
    "print(x2)"
   ]
  },
  {
   "cell_type": "markdown",
   "id": "9e13627e",
   "metadata": {},
   "source": [
    "Let's extract a 2x2 subarray from this"
   ]
  },
  {
   "cell_type": "code",
   "execution_count": 5,
   "id": "07b8c2b6",
   "metadata": {},
   "outputs": [
    {
     "name": "stdout",
     "output_type": "stream",
     "text": [
      "[[3 5]\n",
      " [7 6]]\n"
     ]
    }
   ],
   "source": [
    "x2_sub = x2[:2,:2]\n",
    "print(x2_sub)"
   ]
  },
  {
   "cell_type": "markdown",
   "id": "d12603ac",
   "metadata": {},
   "source": [
    "Now if we modify this subarray, we'll see that the original array is changed! Observe:"
   ]
  },
  {
   "cell_type": "code",
   "execution_count": 6,
   "id": "8baf43f6",
   "metadata": {},
   "outputs": [
    {
     "name": "stdout",
     "output_type": "stream",
     "text": [
      "[[99  5]\n",
      " [ 7  6]]\n"
     ]
    }
   ],
   "source": [
    "x2_sub[0,0] = 99\n",
    "print(x2_sub)"
   ]
  },
  {
   "cell_type": "code",
   "execution_count": 8,
   "id": "1c6ea2db",
   "metadata": {},
   "outputs": [
    {
     "name": "stdout",
     "output_type": "stream",
     "text": [
      "[[99  5  2  4]\n",
      " [ 7  6  8  8]\n",
      " [ 1  6  7  7]]\n"
     ]
    }
   ],
   "source": [
    "print(x2)"
   ]
  },
  {
   "cell_type": "markdown",
   "id": "9163cc14",
   "metadata": {},
   "source": [
    "# Creating copies of arrays"
   ]
  },
  {
   "cell_type": "code",
   "execution_count": 9,
   "id": "41af0463",
   "metadata": {},
   "outputs": [
    {
     "name": "stdout",
     "output_type": "stream",
     "text": [
      "[[99  5]\n",
      " [ 7  6]]\n"
     ]
    }
   ],
   "source": [
    "x2_sub_copy = x2[:2,:2].copy()\n",
    "print(x2_sub_copy)"
   ]
  },
  {
   "cell_type": "markdown",
   "id": "487f908e",
   "metadata": {},
   "source": [
    "If we now modify this subarray, the original array is not touched:"
   ]
  },
  {
   "cell_type": "code",
   "execution_count": 10,
   "id": "8b50d06a",
   "metadata": {},
   "outputs": [
    {
     "name": "stdout",
     "output_type": "stream",
     "text": [
      "[[42  5]\n",
      " [ 7  6]]\n"
     ]
    }
   ],
   "source": [
    "x2_sub_copy[0,0]=42\n",
    "print(x2_sub_copy)"
   ]
  },
  {
   "cell_type": "code",
   "execution_count": 11,
   "id": "fd050ba8",
   "metadata": {},
   "outputs": [
    {
     "name": "stdout",
     "output_type": "stream",
     "text": [
      "[[99  5  2  4]\n",
      " [ 7  6  8  8]\n",
      " [ 1  6  7  7]]\n"
     ]
    }
   ],
   "source": [
    "print(x2)"
   ]
  },
  {
   "cell_type": "markdown",
   "id": "dec84445",
   "metadata": {},
   "source": [
    "# Reshaping Of Arrays"
   ]
  },
  {
   "cell_type": "code",
   "execution_count": 12,
   "id": "9088fba3",
   "metadata": {
    "scrolled": true
   },
   "outputs": [
    {
     "name": "stdout",
     "output_type": "stream",
     "text": [
      "[[1 2 3]\n",
      " [4 5 6]\n",
      " [7 8 9]]\n"
     ]
    }
   ],
   "source": [
    "grid = np.arange(1,10).reshape((3,3))\n",
    "print(grid)"
   ]
  },
  {
   "cell_type": "markdown",
   "id": "460490e1",
   "metadata": {},
   "source": [
    "Or use newaxis keyword"
   ]
  },
  {
   "cell_type": "code",
   "execution_count": 13,
   "id": "e87afd03",
   "metadata": {},
   "outputs": [
    {
     "data": {
      "text/plain": [
       "array([[1, 2, 3]])"
      ]
     },
     "execution_count": 13,
     "metadata": {},
     "output_type": "execute_result"
    }
   ],
   "source": [
    "x = np.array([1,2,3])\n",
    "\n",
    "# row vector via reshape\n",
    "x.reshape((1,3))"
   ]
  },
  {
   "cell_type": "code",
   "execution_count": 14,
   "id": "88c63bfc",
   "metadata": {},
   "outputs": [
    {
     "data": {
      "text/plain": [
       "array([[1, 2, 3]])"
      ]
     },
     "execution_count": 14,
     "metadata": {},
     "output_type": "execute_result"
    }
   ],
   "source": [
    "# row vector via newaxis\n",
    "x[np.newaxis,:]"
   ]
  },
  {
   "cell_type": "markdown",
   "id": "fdf6deff",
   "metadata": {},
   "source": [
    "# Concatenation of array"
   ]
  },
  {
   "cell_type": "code",
   "execution_count": 18,
   "id": "4c39dceb",
   "metadata": {},
   "outputs": [
    {
     "data": {
      "text/plain": [
       "array([1, 2, 3, 3, 2, 1])"
      ]
     },
     "execution_count": 18,
     "metadata": {},
     "output_type": "execute_result"
    }
   ],
   "source": [
    "x = np.array([1,2,3])\n",
    "y = np.array([3,2,1])\n",
    "np.concatenate([x,y])"
   ]
  },
  {
   "cell_type": "markdown",
   "id": "64de55ad",
   "metadata": {},
   "source": [
    "You can also concatenate more than two arrays at once:"
   ]
  },
  {
   "cell_type": "code",
   "execution_count": 19,
   "id": "947fa47a",
   "metadata": {},
   "outputs": [
    {
     "name": "stdout",
     "output_type": "stream",
     "text": [
      "[ 1  2  3  3  2  1 99 99 99]\n"
     ]
    }
   ],
   "source": [
    "z = [99,99,99]\n",
    "print(np.concatenate([x,y,z]))"
   ]
  },
  {
   "cell_type": "markdown",
   "id": "3669e5cf",
   "metadata": {},
   "source": [
    "Can be used for two-dimensional arrays:"
   ]
  },
  {
   "cell_type": "code",
   "execution_count": 20,
   "id": "b986567d",
   "metadata": {},
   "outputs": [],
   "source": [
    "grid = np.array([[1,2,3],[4,5,6]])"
   ]
  },
  {
   "cell_type": "code",
   "execution_count": 21,
   "id": "dc1d2da0",
   "metadata": {},
   "outputs": [
    {
     "data": {
      "text/plain": [
       "array([[1, 2, 3],\n",
       "       [4, 5, 6],\n",
       "       [1, 2, 3],\n",
       "       [4, 5, 6]])"
      ]
     },
     "execution_count": 21,
     "metadata": {},
     "output_type": "execute_result"
    }
   ],
   "source": [
    "# concatenate along the first axis\n",
    "np.concatenate([grid,grid])"
   ]
  },
  {
   "cell_type": "code",
   "execution_count": 22,
   "id": "0ddf9c0a",
   "metadata": {},
   "outputs": [
    {
     "data": {
      "text/plain": [
       "array([[1, 2, 3, 1, 2, 3],\n",
       "       [4, 5, 6, 4, 5, 6]])"
      ]
     },
     "execution_count": 22,
     "metadata": {},
     "output_type": "execute_result"
    }
   ],
   "source": [
    "# concatenate along the second axis (zero-indexed)\n",
    "np.concatenate([grid,grid],axis=1)"
   ]
  },
  {
   "cell_type": "markdown",
   "id": "aa3681e0",
   "metadata": {},
   "source": [
    "For working with arrays of mixed dimensions, can be clearer to use the np.vstack (vertical stacking)"
   ]
  },
  {
   "cell_type": "code",
   "execution_count": 26,
   "id": "24e00d26",
   "metadata": {},
   "outputs": [
    {
     "data": {
      "text/plain": [
       "array([[1, 2, 3],\n",
       "       [9, 8, 7],\n",
       "       [6, 5, 4]])"
      ]
     },
     "execution_count": 26,
     "metadata": {},
     "output_type": "execute_result"
    }
   ],
   "source": [
    "x = np.array([1,2,3])\n",
    "grid = np.array([[9,8,7],[6,5,4]])\n",
    "\n",
    "np.vstack((x,grid))"
   ]
  },
  {
   "cell_type": "code",
   "execution_count": 35,
   "id": "137dd6ed",
   "metadata": {},
   "outputs": [
    {
     "data": {
      "text/plain": [
       "array([[ 9,  8,  7, 99],\n",
       "       [ 6,  5,  4, 99]])"
      ]
     },
     "execution_count": 35,
     "metadata": {},
     "output_type": "execute_result"
    }
   ],
   "source": [
    "new_grid = np.array([[99],[99]])\n",
    "\n",
    "np.hstack((grid,new_grid))"
   ]
  },
  {
   "cell_type": "markdown",
   "id": "223e04ce",
   "metadata": {},
   "source": [
    "# Splitting of arrays"
   ]
  },
  {
   "cell_type": "code",
   "execution_count": 27,
   "id": "4dbf720b",
   "metadata": {},
   "outputs": [
    {
     "name": "stdout",
     "output_type": "stream",
     "text": [
      "[1 2 3] [99 99] [3 2 1]\n"
     ]
    }
   ],
   "source": [
    "x = [1,2,3,99,99,3,2,1]\n",
    "x1, x2, x3 = np.split(x,[3,5])\n",
    "print(x1,x2,x3)"
   ]
  },
  {
   "cell_type": "code",
   "execution_count": null,
   "id": "6d222b51",
   "metadata": {},
   "outputs": [],
   "source": []
  },
  {
   "cell_type": "markdown",
   "id": "93e74afa",
   "metadata": {},
   "source": [
    "# Array arithmetic"
   ]
  },
  {
   "cell_type": "code",
   "execution_count": 48,
   "id": "40268122",
   "metadata": {},
   "outputs": [
    {
     "name": "stdout",
     "output_type": "stream",
     "text": [
      "x           =  [0 1 2 3]\n",
      "x+5         =  [5 6 7 8]\n",
      "x-5         =  [-5 -4 -3 -2]\n",
      "x*5         =  [ 0  5 10 15]\n",
      "x/5         =  [0.  0.2 0.4 0.6]\n",
      "x//5         =  [0 0 1 1]\n"
     ]
    }
   ],
   "source": [
    "x = np.arange(4)\n",
    "\n",
    "print(\"x           = \", x)\n",
    "print(\"x+5         = \", x+5)\n",
    "print(\"x-5         = \", x-5)\n",
    "print(\"x*5         = \", x*5)\n",
    "print(\"x/5         = \", x/5)\n",
    "\n",
    "# floor division\n",
    "print(\"x//5         = \", x//2)\n"
   ]
  },
  {
   "cell_type": "code",
   "execution_count": null,
   "id": "49a2fa0b",
   "metadata": {},
   "outputs": [],
   "source": []
  }
 ],
 "metadata": {
  "kernelspec": {
   "display_name": "Python 3",
   "language": "python",
   "name": "python3"
  },
  "language_info": {
   "codemirror_mode": {
    "name": "ipython",
    "version": 3
   },
   "file_extension": ".py",
   "mimetype": "text/x-python",
   "name": "python",
   "nbconvert_exporter": "python",
   "pygments_lexer": "ipython3",
   "version": "3.9.12"
  }
 },
 "nbformat": 4,
 "nbformat_minor": 5
}
