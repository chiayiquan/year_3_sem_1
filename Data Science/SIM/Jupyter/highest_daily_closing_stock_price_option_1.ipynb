{
 "cells": [
  {
   "cell_type": "code",
   "execution_count": 1,
   "id": "916f2389",
   "metadata": {},
   "outputs": [],
   "source": [
    "import numpy as np"
   ]
  },
  {
   "cell_type": "code",
   "execution_count": 2,
   "id": "e16a7477",
   "metadata": {},
   "outputs": [],
   "source": [
    "input_stock_price_array = np.array([142.19,148.26,147.93,150.75,153.31,153.8,152.28,150,153.07,154.94])"
   ]
  },
  {
   "cell_type": "code",
   "execution_count": 3,
   "id": "0f550beb",
   "metadata": {},
   "outputs": [],
   "source": [
    "sorted_stock_price_array = np.sort(input_stock_price_array)[::-1]"
   ]
  },
  {
   "cell_type": "code",
   "execution_count": 4,
   "id": "845aae86",
   "metadata": {},
   "outputs": [
    {
     "name": "stdout",
     "output_type": "stream",
     "text": [
      "Closing stock price in order of day traded:  [142.19 148.26 147.93 150.75 153.31]\n",
      "Closing stock price in order from high to low:  [154.94 153.8  153.31 153.07 152.28]\n"
     ]
    }
   ],
   "source": [
    "print('Closing stock price in order of day traded: ',input_stock_price_array[:5])\n",
    "print('Closing stock price in order from high to low: ',sorted_stock_price_array[:5])"
   ]
  },
  {
   "cell_type": "code",
   "execution_count": 5,
   "id": "4a8f1506",
   "metadata": {},
   "outputs": [
    {
     "name": "stdout",
     "output_type": "stream",
     "text": [
      "Highest closing stock price:  154.94\n"
     ]
    }
   ],
   "source": [
    "print(\"Highest closing stock price: \", sorted_stock_price_array[0])"
   ]
  },
  {
   "cell_type": "code",
   "execution_count": null,
   "id": "26e3a5f3",
   "metadata": {},
   "outputs": [],
   "source": []
  }
 ],
 "metadata": {
  "kernelspec": {
   "display_name": "Python 3",
   "language": "python",
   "name": "python3"
  },
  "language_info": {
   "codemirror_mode": {
    "name": "ipython",
    "version": 3
   },
   "file_extension": ".py",
   "mimetype": "text/x-python",
   "name": "python",
   "nbconvert_exporter": "python",
   "pygments_lexer": "ipython3",
   "version": "3.9.12"
  }
 },
 "nbformat": 4,
 "nbformat_minor": 5
}
