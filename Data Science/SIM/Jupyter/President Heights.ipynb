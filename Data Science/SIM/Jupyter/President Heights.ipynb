{
 "cells": [
  {
   "cell_type": "code",
   "execution_count": 1,
   "id": "644f72e8",
   "metadata": {},
   "outputs": [],
   "source": [
    "import pandas as pd\n",
    "import numpy as np"
   ]
  },
  {
   "cell_type": "markdown",
   "id": "44da421a",
   "metadata": {},
   "source": [
    "# Read csv file"
   ]
  },
  {
   "cell_type": "code",
   "execution_count": 2,
   "id": "5b098204",
   "metadata": {},
   "outputs": [
    {
     "name": "stdout",
     "output_type": "stream",
     "text": [
      "[189 170 189 163 183 171 185 168 173 183 173 173 175 178 183 193 178 173\n",
      " 174 183 183 168 170 178 182 180 183 178 182 188 175 179 183 193 182 183\n",
      " 177 185 188 188 182 185]\n"
     ]
    }
   ],
   "source": [
    "data = pd.read_csv(\"./data/president_heights.csv\")\n",
    "heights = np.array(data['height(cm)'])\n",
    "print(heights)"
   ]
  },
  {
   "cell_type": "markdown",
   "id": "ac8beb86",
   "metadata": {},
   "source": [
    "Now that we have this data array, we can compute a variety of summary statistics:"
   ]
  },
  {
   "cell_type": "code",
   "execution_count": 3,
   "id": "99720396",
   "metadata": {},
   "outputs": [
    {
     "name": "stdout",
     "output_type": "stream",
     "text": [
      "Mean height:         179.73809523809524\n",
      "Standard deviation:  6.931843442745892\n",
      "Minimum height:      163\n",
      "Maximum height:      193\n"
     ]
    }
   ],
   "source": [
    "print(\"Mean height:        \", heights.mean())\n",
    "print(\"Standard deviation: \", heights.std())\n",
    "print(\"Minimum height:     \", heights.min())\n",
    "print(\"Maximum height:     \", heights.max())"
   ]
  },
  {
   "cell_type": "markdown",
   "id": "d4d93825",
   "metadata": {},
   "source": [
    "Note that in each case, the aggregation operation reduced the entire array to a single summarizing value, which give us information about the distribution of values. We may also wish to compute quantities."
   ]
  },
  {
   "cell_type": "code",
   "execution_count": 4,
   "id": "7647c986",
   "metadata": {},
   "outputs": [
    {
     "name": "stdout",
     "output_type": "stream",
     "text": [
      "25th percentile 174.25\n",
      "Median 182.0\n",
      "75th percentile 183.0\n"
     ]
    }
   ],
   "source": [
    "print('25th percentile', np.percentile(heights,25))\n",
    "print('Median', np.median(heights))\n",
    "print('75th percentile', np.percentile(heights,75))"
   ]
  },
  {
   "cell_type": "markdown",
   "id": "d87b5103",
   "metadata": {},
   "source": [
    "We see that the median height of US presidents is 182cm, or just shy of six feet"
   ]
  },
  {
   "cell_type": "code",
   "execution_count": 7,
   "id": "b44bf5f3",
   "metadata": {},
   "outputs": [],
   "source": [
    "%matplotlib inline\n",
    "import matplotlib.pyplot as plt\n",
    "import seaborn \n",
    "seaborn.set() # set plot style"
   ]
  },
  {
   "cell_type": "code",
   "execution_count": 8,
   "id": "863c1712",
   "metadata": {},
   "outputs": [
    {
     "data": {
      "text/plain": [
       "Text(0, 0.5, 'number')"
      ]
     },
     "execution_count": 8,
     "metadata": {},
     "output_type": "execute_result"
    },
    {
     "data": {
      "image/png": "[encoded data removed]",
      "text/plain": [
       "<Figure size 432x288 with 1 Axes>"
      ]
     },
     "metadata": {},
     "output_type": "display_data"
    }
   ],
   "source": [
    "plt.hist(heights)\n",
    "plt.title('Height Distribution Of US Presidents')\n",
    "plt.xlabel('Heights (cm)')\n",
    "plt.ylabel('number')"
   ]
  },
  {
   "cell_type": "code",
   "execution_count": null,
   "id": "684d206a",
   "metadata": {},
   "outputs": [],
   "source": []
  }
 ],
 "metadata": {
  "kernelspec": {
   "display_name": "Python 3",
   "language": "python",
   "name": "python3"
  },
  "language_info": {
   "codemirror_mode": {
    "name": "ipython",
    "version": 3
   },
   "file_extension": ".py",
   "mimetype": "text/x-python",
   "name": "python",
   "nbconvert_exporter": "python",
   "pygments_lexer": "ipython3",
   "version": "3.9.12"
  }
 },
 "nbformat": 4,
 "nbformat_minor": 5
}
