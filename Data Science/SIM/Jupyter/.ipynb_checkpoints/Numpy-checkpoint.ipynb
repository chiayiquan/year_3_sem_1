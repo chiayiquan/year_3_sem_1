{
 "cells": [
  {
   "cell_type": "code",
   "execution_count": 1,
   "id": "a93d4ada",
   "metadata": {},
   "outputs": [],
   "source": [
    "import pandas as pd\n",
    "import numpy as np\n",
    "import sklearn as sk\n",
    "import matplotlib as mp\n",
    "import scipy as sc"
   ]
  },
  {
   "cell_type": "code",
   "execution_count": 7,
   "id": "21458373",
   "metadata": {},
   "outputs": [
    {
     "name": "stdout",
     "output_type": "stream",
     "text": [
      "1.1.3\n",
      "1.19.2\n",
      "1.1.3\n",
      "3.3.2\n",
      "1.9.3\n"
     ]
    }
   ],
   "source": [
    "print(pd.__version__)\n",
    "print(np.__version__)\n",
    "print(sk.__version__)\n",
    "print(mp.__version__)\n",
    "print(sc.__version__)"
   ]
  },
  {
   "cell_type": "code",
   "execution_count": 3,
   "id": "f61e1c82",
   "metadata": {},
   "outputs": [
    {
     "data": {
      "text/plain": [
       "array([[  0,   1,   2,   3,   4],\n",
       "       [-99,   6, -99,   8, -99],\n",
       "       [-99,  11, -99,  13, -99]], dtype=int64)"
      ]
     },
     "execution_count": 3,
     "metadata": {},
     "output_type": "execute_result"
    }
   ],
   "source": [
    "x = np.arange(15, dtype=np.int64).reshape(3,5)\n",
    "x[1:, ::2] = -99\n",
    "x"
   ]
  },
  {
   "cell_type": "code",
   "execution_count": 4,
   "id": "30783a82",
   "metadata": {},
   "outputs": [
    {
     "data": {
      "text/plain": [
       "array([ 4,  8, 13], dtype=int64)"
      ]
     },
     "execution_count": 4,
     "metadata": {},
     "output_type": "execute_result"
    }
   ],
   "source": [
    "x.max(axis=1)"
   ]
  },
  {
   "cell_type": "code",
   "execution_count": 5,
   "id": "64e1046d",
   "metadata": {},
   "outputs": [
    {
     "data": {
      "text/plain": [
       "array([ 1.02585252, -0.34681911,  2.66330802, ...,  1.29804996,\n",
       "       -0.79946183,  2.87624195])"
      ]
     },
     "execution_count": 5,
     "metadata": {},
     "output_type": "execute_result"
    }
   ],
   "source": [
    "rng = np.random.default_rng()\n",
    "samples = rng.normal(size=2500)\n",
    "samples"
   ]
  },
  {
   "cell_type": "code",
   "execution_count": 16,
   "id": "35db36f3",
   "metadata": {},
   "outputs": [
    {
     "name": "stdout",
     "output_type": "stream",
     "text": [
      "[1 2 3]\n",
      "(3,)\n",
      "3\n",
      "3\n",
      "int32\n",
      "6\n",
      "1\n",
      "3\n",
      "2.0\n"
     ]
    }
   ],
   "source": [
    "my_first_array= np.array([1,2,3])\n",
    "print(my_first_array)\n",
    "print(my_first_array.shape)\n",
    "print(my_first_array.size)\n",
    "print(len(my_first_array))\n",
    "print(my_first_array.dtype.name)\n",
    "print(my_first_array.sum())\n",
    "print(my_first_array.min())\n",
    "print(my_first_array.max())\n",
    "print(my_first_array.mean())"
   ]
  },
  {
   "cell_type": "code",
   "execution_count": null,
   "id": "f182158c",
   "metadata": {},
   "outputs": [],
   "source": []
  }
 ],
 "metadata": {
  "kernelspec": {
   "display_name": "Python 3",
   "language": "python",
   "name": "python3"
  },
  "language_info": {
   "codemirror_mode": {
    "name": "ipython",
    "version": 3
   },
   "file_extension": ".py",
   "mimetype": "text/x-python",
   "name": "python",
   "nbconvert_exporter": "python",
   "pygments_lexer": "ipython3",
   "version": "3.9.12"
  }
 },
 "nbformat": 4,
 "nbformat_minor": 5
}
