{
 "cells": [
  {
   "cell_type": "code",
   "execution_count": 14,
   "id": "72c83669",
   "metadata": {},
   "outputs": [],
   "source": [
    "import numpy as np\n",
    "from numpy import nan\n",
    "X = np.array([[nan,0,3],[3,7,9],[3,5,2],[4,nan,6],[8,8,1]])\n",
    "y = np.array([14,16,-1,8,-5])"
   ]
  },
  {
   "cell_type": "code",
   "execution_count": 18,
   "id": "64b6e88f",
   "metadata": {},
   "outputs": [
    {
     "data": {
      "text/plain": [
       "array([[3.5, 0. , 3. ],\n",
       "       [3. , 7. , 9. ],\n",
       "       [3. , 5. , 2. ],\n",
       "       [4. , 6. , 6. ],\n",
       "       [8. , 8. , 1. ]])"
      ]
     },
     "execution_count": 18,
     "metadata": {},
     "output_type": "execute_result"
    }
   ],
   "source": [
    "from sklearn.impute import SimpleImputer\n",
    "imp = SimpleImputer(strategy='median')\n",
    "X2 = imp.fit_transform(X)\n",
    "X2"
   ]
  },
  {
   "cell_type": "code",
   "execution_count": 19,
   "id": "aec1cd15",
   "metadata": {},
   "outputs": [
    {
     "data": {
      "text/plain": [
       "array([13.77424796, 15.08489797, -1.1491576 ,  9.58429559, -5.29428391])"
      ]
     },
     "execution_count": 19,
     "metadata": {},
     "output_type": "execute_result"
    }
   ],
   "source": [
    "from sklearn.linear_model import LinearRegression\n",
    "model = LinearRegression().fit(X2,y)\n",
    "model.predict(X2)"
   ]
  },
  {
   "cell_type": "code",
   "execution_count": 20,
   "id": "a4b2f084",
   "metadata": {},
   "outputs": [
    {
     "data": {
      "text/plain": [
       "0.9895989939312542"
      ]
     },
     "execution_count": 20,
     "metadata": {},
     "output_type": "execute_result"
    }
   ],
   "source": [
    "model.score(X2,y)"
   ]
  },
  {
   "cell_type": "code",
   "execution_count": null,
   "id": "374bb85d",
   "metadata": {},
   "outputs": [],
   "source": []
  }
 ],
 "metadata": {
  "kernelspec": {
   "display_name": "Python 3",
   "language": "python",
   "name": "python3"
  },
  "language_info": {
   "codemirror_mode": {
    "name": "ipython",
    "version": 3
   },
   "file_extension": ".py",
   "mimetype": "text/x-python",
   "name": "python",
   "nbconvert_exporter": "python",
   "pygments_lexer": "ipython3",
   "version": "3.9.12"
  }
 },
 "nbformat": 4,
 "nbformat_minor": 5
}
