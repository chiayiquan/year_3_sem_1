{
 "cells": [
  {
   "cell_type": "markdown",
   "id": "1b2b38c1",
   "metadata": {},
   "source": [
    "# A Common processing pipeline\n",
    "\n",
    "1. Impute missing values (e.g. using median)\n",
    "2. Transform features (e.g. using a polynomial)\n",
    "3. Fit a linear regression"
   ]
  },
  {
   "cell_type": "code",
   "execution_count": 1,
   "id": "e7f587b6",
   "metadata": {},
   "outputs": [],
   "source": [
    "import numpy as np\n",
    "from numpy import nan\n",
    "\n",
    "X = np.array([[nan,0,3],[3,7,9],[3,5,2],[4,nan,6],[8,8,1]])\n",
    "y = np.array([14,16,-1,8,-5])"
   ]
  },
  {
   "cell_type": "code",
   "execution_count": 2,
   "id": "5da6ed07",
   "metadata": {},
   "outputs": [
    {
     "data": {
      "text/plain": [
       "array([[4.5, 0. , 3. ],\n",
       "       [3. , 7. , 9. ],\n",
       "       [3. , 5. , 2. ],\n",
       "       [4. , 5. , 6. ],\n",
       "       [8. , 8. , 1. ]])"
      ]
     },
     "execution_count": 2,
     "metadata": {},
     "output_type": "execute_result"
    }
   ],
   "source": [
    "# impute the missing values using the mean\n",
    "from sklearn.impute import SimpleImputer\n",
    "imp = SimpleImputer(strategy='mean')\n",
    "Ximp = imp.fit_transform(X)\n",
    "Ximp"
   ]
  },
  {
   "cell_type": "code",
   "execution_count": 3,
   "id": "f19267e4",
   "metadata": {},
   "outputs": [],
   "source": [
    "# Transform the feature space using a polynomial, degree = 3\n",
    "from sklearn.preprocessing import PolynomialFeatures\n",
    "poly = PolynomialFeatures(degree=3)\n",
    "Ximp_trans = poly.fit_transform(Ximp)"
   ]
  },
  {
   "cell_type": "code",
   "execution_count": 4,
   "id": "414e5519",
   "metadata": {},
   "outputs": [],
   "source": [
    "# fit a linear regression model\n",
    "from sklearn.linear_model import LinearRegression\n",
    "model = LinearRegression().fit(Ximp_trans,y)\n",
    "yfit=model.predict(Ximp_trans)"
   ]
  },
  {
   "cell_type": "code",
   "execution_count": 5,
   "id": "1d5ab0c9",
   "metadata": {},
   "outputs": [],
   "source": [
    "# create some test data\n",
    "Xtest = np.array([[nan,1,4],[4,8,10],[4,6,3],[5,nan,7],[9,9,2]])\n",
    "ytest = np.array([15,17,0,9,-4])"
   ]
  },
  {
   "cell_type": "code",
   "execution_count": 6,
   "id": "b320fb7e",
   "metadata": {},
   "outputs": [
    {
     "data": {
      "text/plain": [
       "array([[ 5.5,  1. ,  4. ],\n",
       "       [ 4. ,  8. , 10. ],\n",
       "       [ 4. ,  6. ,  3. ],\n",
       "       [ 5. ,  6. ,  7. ],\n",
       "       [ 9. ,  9. ,  2. ]])"
      ]
     },
     "execution_count": 6,
     "metadata": {},
     "output_type": "execute_result"
    }
   ],
   "source": [
    "# impute the missing values\n",
    "Xtest_imp = imp.fit_transform(Xtest)\n",
    "Xtest_imp"
   ]
  },
  {
   "cell_type": "code",
   "execution_count": 7,
   "id": "6fa78bb8",
   "metadata": {},
   "outputs": [],
   "source": [
    "# Transform the feature space\n",
    "Xtest_imp_trans = poly.fit_transform(Xtest_imp)"
   ]
  },
  {
   "cell_type": "code",
   "execution_count": 8,
   "id": "230abf61",
   "metadata": {},
   "outputs": [
    {
     "name": "stdout",
     "output_type": "stream",
     "text": [
      "[ 20.20852346  16.72892509  -5.3003913    8.94238088 -11.11390686]\n"
     ]
    }
   ],
   "source": [
    "preds = model.predict(Xtest_imp_trans)\n",
    "print(preds)"
   ]
  },
  {
   "cell_type": "code",
   "execution_count": 9,
   "id": "aed243be",
   "metadata": {},
   "outputs": [
    {
     "data": {
      "text/plain": [
       "0.6859213020169925"
      ]
     },
     "execution_count": 9,
     "metadata": {},
     "output_type": "execute_result"
    }
   ],
   "source": [
    "model.score(Xtest_imp_trans, ytest)"
   ]
  },
  {
   "cell_type": "code",
   "execution_count": null,
   "id": "9c35e9e8",
   "metadata": {},
   "outputs": [],
   "source": []
  },
  {
   "cell_type": "code",
   "execution_count": 10,
   "id": "473d6ae3",
   "metadata": {},
   "outputs": [],
   "source": [
    "from sklearn.pipeline import make_pipeline\n",
    "model = make_pipeline(SimpleImputer(strategy='mean'), PolynomialFeatures(degree=3),LinearRegression())"
   ]
  },
  {
   "cell_type": "code",
   "execution_count": 11,
   "id": "aff63d3b",
   "metadata": {},
   "outputs": [
    {
     "name": "stdout",
     "output_type": "stream",
     "text": [
      "[14 16 -1  8 -5]\n",
      "[ 15.05233793  16.72892509  -5.3003913   16.16457818 -11.11390686]\n"
     ]
    }
   ],
   "source": [
    "print(y)\n",
    "model.fit(X,y)\n",
    "preds=model.predict(Xtest)\n",
    "print(preds)"
   ]
  },
  {
   "cell_type": "code",
   "execution_count": 12,
   "id": "12ff84c0",
   "metadata": {},
   "outputs": [
    {
     "data": {
      "text/plain": [
       "0.6141482204733815"
      ]
     },
     "execution_count": 12,
     "metadata": {},
     "output_type": "execute_result"
    }
   ],
   "source": [
    "model.score(Xtest,ytest)"
   ]
  },
  {
   "cell_type": "code",
   "execution_count": null,
   "id": "c25a4af7",
   "metadata": {},
   "outputs": [],
   "source": []
  }
 ],
 "metadata": {
  "kernelspec": {
   "display_name": "Python 3",
   "language": "python",
   "name": "python3"
  },
  "language_info": {
   "codemirror_mode": {
    "name": "ipython",
    "version": 3
   },
   "file_extension": ".py",
   "mimetype": "text/x-python",
   "name": "python",
   "nbconvert_exporter": "python",
   "pygments_lexer": "ipython3",
   "version": "3.9.12"
  }
 },
 "nbformat": 4,
 "nbformat_minor": 5
}
