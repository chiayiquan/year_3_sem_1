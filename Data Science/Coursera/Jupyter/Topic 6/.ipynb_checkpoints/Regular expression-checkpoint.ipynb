{
 "cells": [
  {
   "cell_type": "markdown",
   "id": "d32fd8b3",
   "metadata": {},
   "source": [
    "# Regular expressions"
   ]
  },
  {
   "cell_type": "markdown",
   "id": "fb393d18",
   "metadata": {},
   "source": [
    "- A formal language for defining text strings (character sequences)\n",
    "- Used for pattern matching (e.g. searching & replacing in text)\n",
    "\n",
    "1. Disjunctions\n",
    "2. Negation\n",
    "3. Optionality\n",
    "4. Aliases\n",
    "5. Anchors"
   ]
  },
  {
   "cell_type": "markdown",
   "id": "8f598a0b",
   "metadata": {},
   "source": [
    "# 1. Disjunctions"
   ]
  },
  {
   "cell_type": "code",
   "execution_count": 1,
   "id": "736cd8f5",
   "metadata": {},
   "outputs": [],
   "source": [
    "import re"
   ]
  },
  {
   "cell_type": "code",
   "execution_count": 2,
   "id": "bb1e45aa",
   "metadata": {},
   "outputs": [],
   "source": [
    "text = '''Most of the time we can use white space.\n",
    "But what about fred@gmail.com or 13/01/2021?\n",
    "The students' attempts aren't working.\n",
    "Maybe it's the use of apostrophes? or it might need a more up-to-date model.\n",
    "'''"
   ]
  },
  {
   "cell_type": "code",
   "execution_count": 3,
   "id": "c1d65efa",
   "metadata": {},
   "outputs": [],
   "source": [
    "pattern = r'the'"
   ]
  },
  {
   "cell_type": "code",
   "execution_count": 14,
   "id": "8e066da9",
   "metadata": {},
   "outputs": [
    {
     "name": "stdout",
     "output_type": "stream",
     "text": [
      "Most X X time X can use white space.\n",
      "But what about fred@gmail.com or 13/01/2021?\n",
      "The students' attempts aren't working.\n",
      "Maybe it's X use X apostrophes? or it might need a more up-to-date model.\n",
      "\n"
     ]
    }
   ],
   "source": [
    "print(re.sub(pattern, \"X\", text))"
   ]
  },
  {
   "cell_type": "code",
   "execution_count": 7,
   "id": "c28c37ce",
   "metadata": {},
   "outputs": [],
   "source": [
    "pattern = r'[Tt]he'"
   ]
  },
  {
   "cell_type": "code",
   "execution_count": 9,
   "id": "e2ee61fe",
   "metadata": {},
   "outputs": [],
   "source": [
    "pattern = r'[0-9]'"
   ]
  },
  {
   "cell_type": "code",
   "execution_count": 11,
   "id": "41fb75a3",
   "metadata": {},
   "outputs": [],
   "source": [
    "pattern = r\"[A-Z]\""
   ]
  },
  {
   "cell_type": "code",
   "execution_count": 13,
   "id": "80a385bc",
   "metadata": {},
   "outputs": [],
   "source": [
    "pattern = r'of|the|we'"
   ]
  },
  {
   "cell_type": "markdown",
   "id": "ec02ecae",
   "metadata": {},
   "source": [
    "# 2. Negation"
   ]
  },
  {
   "cell_type": "code",
   "execution_count": 15,
   "id": "05c64799",
   "metadata": {},
   "outputs": [],
   "source": [
    "text = '''Most of the time we can use white space.\n",
    "But what about fred@gmail.com or 13/01/2021?\n",
    "The students' attempts aren't working.\n",
    "Maybe it's the use of apostrophes? or it might need a more up-to-date model.\n",
    "'''"
   ]
  },
  {
   "cell_type": "code",
   "execution_count": 16,
   "id": "8720a4a4",
   "metadata": {},
   "outputs": [],
   "source": [
    "pattern = r\"[^0-9]\""
   ]
  },
  {
   "cell_type": "code",
   "execution_count": 20,
   "id": "4ca5e0dc",
   "metadata": {},
   "outputs": [
    {
     "name": "stdout",
     "output_type": "stream",
     "text": [
      " ost of the time we can use white space   ut what about fred gmail com or              he students  attempts aren t working   aybe it s the use of apostrophes  or it might need a more up to date model  \n"
     ]
    }
   ],
   "source": [
    "print(re.sub(pattern, \" \", text))"
   ]
  },
  {
   "cell_type": "code",
   "execution_count": 18,
   "id": "768377eb",
   "metadata": {},
   "outputs": [],
   "source": [
    "pattern = r\"[^a-z]\""
   ]
  },
  {
   "cell_type": "markdown",
   "id": "01a94846",
   "metadata": {},
   "source": [
    "# 3.Optionality "
   ]
  },
  {
   "cell_type": "code",
   "execution_count": 21,
   "id": "684e51b3",
   "metadata": {},
   "outputs": [],
   "source": [
    "text = '''begin began begun beginning'''"
   ]
  },
  {
   "cell_type": "code",
   "execution_count": 22,
   "id": "65c22064",
   "metadata": {},
   "outputs": [],
   "source": [
    "pattern = r\"beg.n\""
   ]
  },
  {
   "cell_type": "code",
   "execution_count": 23,
   "id": "675b1fcb",
   "metadata": {},
   "outputs": [
    {
     "name": "stdout",
     "output_type": "stream",
     "text": [
      "X X X Xning\n"
     ]
    }
   ],
   "source": [
    "print(re.sub(pattern, \"X\", text))"
   ]
  },
  {
   "cell_type": "code",
   "execution_count": 24,
   "id": "86b42305",
   "metadata": {},
   "outputs": [],
   "source": [
    "text = '''colour can be spelled color'''"
   ]
  },
  {
   "cell_type": "code",
   "execution_count": 25,
   "id": "f6ca7e08",
   "metadata": {},
   "outputs": [],
   "source": [
    "pattern = r'colou?r'"
   ]
  },
  {
   "cell_type": "code",
   "execution_count": 26,
   "id": "2a992e4c",
   "metadata": {},
   "outputs": [
    {
     "name": "stdout",
     "output_type": "stream",
     "text": [
      " can be spelled \n"
     ]
    }
   ],
   "source": [
    "print(re.sub(pattern, \"\", text))"
   ]
  },
  {
   "cell_type": "code",
   "execution_count": 27,
   "id": "9022444b",
   "metadata": {},
   "outputs": [],
   "source": [
    "pattern = r\"w.*\""
   ]
  },
  {
   "cell_type": "code",
   "execution_count": 28,
   "id": "85eeb7c5",
   "metadata": {},
   "outputs": [],
   "source": [
    "text = '''Most of the time we can use white space.\n",
    "But what about fred@gmail.com or 13/01/2021?\n",
    "The students' attempts aren't working.\n",
    "Maybe it's the use of apostrophes? or it might need a more up-to-date model.\n",
    "'''"
   ]
  },
  {
   "cell_type": "code",
   "execution_count": 33,
   "id": "1fd3b7a7",
   "metadata": {},
   "outputs": [
    {
     "name": "stdout",
     "output_type": "stream",
     "text": [
      "Most of the time can use space.\n",
      "But about fred@gmail.com or 13/01/2021?\n",
      "The students' attempts aren't working.\n",
      "Maybe it's the use of apostrophes? or it might need a more up-to-date model.\n",
      "\n"
     ]
    }
   ],
   "source": [
    "print(re.sub(pattern,\"\",text))"
   ]
  },
  {
   "cell_type": "code",
   "execution_count": 32,
   "id": "a6f9d45c",
   "metadata": {},
   "outputs": [],
   "source": [
    "pattern = r\"w.*? \""
   ]
  },
  {
   "cell_type": "code",
   "execution_count": 34,
   "id": "c2051fb2",
   "metadata": {},
   "outputs": [],
   "source": [
    "text = '''foo fooo foooo foooooo!'''"
   ]
  },
  {
   "cell_type": "code",
   "execution_count": 37,
   "id": "5695c71c",
   "metadata": {},
   "outputs": [],
   "source": [
    "pattern = r'fooo+'"
   ]
  },
  {
   "cell_type": "code",
   "execution_count": 38,
   "id": "09107bc7",
   "metadata": {},
   "outputs": [
    {
     "name": "stdout",
     "output_type": "stream",
     "text": [
      "foo   !\n"
     ]
    }
   ],
   "source": [
    "print(re.sub(pattern, \"\", text))"
   ]
  },
  {
   "cell_type": "markdown",
   "id": "e935831b",
   "metadata": {},
   "source": [
    "# 4. Aliases"
   ]
  },
  {
   "cell_type": "markdown",
   "id": "301de9da",
   "metadata": {},
   "source": [
    "\\w - match word <br>\n",
    "\\d - match digit <br>\n",
    "\\s - match whitespace <br>\n",
    "\\W - match not word<br>\n",
    "\\D - match not digit <br>\n",
    "\\S - match not whitespace "
   ]
  },
  {
   "cell_type": "code",
   "execution_count": 39,
   "id": "32967d14",
   "metadata": {},
   "outputs": [],
   "source": [
    "text = '''Most of the time we can use white space.\n",
    "But what about fred@gmail.com or 13/01/2021?\n",
    "The students' attempts aren't working.\n",
    "Maybe it's the use of apostrophes? or it might need a more up-to-date model.\n",
    "'''"
   ]
  },
  {
   "cell_type": "code",
   "execution_count": 40,
   "id": "292d7622",
   "metadata": {},
   "outputs": [],
   "source": [
    "pattern = r'\\w'"
   ]
  },
  {
   "cell_type": "code",
   "execution_count": 41,
   "id": "4126011c",
   "metadata": {},
   "outputs": [
    {
     "name": "stdout",
     "output_type": "stream",
     "text": [
      "        .\n",
      "   @.  //?\n",
      " '  ' .\n",
      " '    ?       -- .\n",
      "\n"
     ]
    }
   ],
   "source": [
    "print(re.sub(pattern, \"\", text))"
   ]
  },
  {
   "cell_type": "code",
   "execution_count": 44,
   "id": "1880fbfe",
   "metadata": {},
   "outputs": [],
   "source": [
    "pattern = r\"\\d\""
   ]
  },
  {
   "cell_type": "code",
   "execution_count": 45,
   "id": "e07eedc6",
   "metadata": {},
   "outputs": [
    {
     "name": "stdout",
     "output_type": "stream",
     "text": [
      "Most of the time we can use white space.\n",
      "But what about fred@gmail.com or //?\n",
      "The students' attempts aren't working.\n",
      "Maybe it's the use of apostrophes? or it might need a more up-to-date model.\n",
      "\n"
     ]
    }
   ],
   "source": [
    "print(re.sub(pattern, \"\", text))"
   ]
  },
  {
   "cell_type": "markdown",
   "id": "ad9c5bc0",
   "metadata": {},
   "source": [
    "# 5.Anchors"
   ]
  },
  {
   "cell_type": "code",
   "execution_count": 46,
   "id": "05c257c2",
   "metadata": {},
   "outputs": [],
   "source": [
    "pattern = '\\w+'"
   ]
  },
  {
   "cell_type": "code",
   "execution_count": 47,
   "id": "eaf19d75",
   "metadata": {},
   "outputs": [
    {
     "name": "stdout",
     "output_type": "stream",
     "text": [
      "        .\n",
      "   @.  //?\n",
      " '  ' .\n",
      " '    ?       -- .\n",
      "\n"
     ]
    }
   ],
   "source": [
    "print(re.sub(pattern, \"\", text))"
   ]
  },
  {
   "cell_type": "code",
   "execution_count": 48,
   "id": "b23791a5",
   "metadata": {},
   "outputs": [],
   "source": [
    "pattern = '^\\w+'"
   ]
  },
  {
   "cell_type": "code",
   "execution_count": 49,
   "id": "22bfb99c",
   "metadata": {},
   "outputs": [
    {
     "name": "stdout",
     "output_type": "stream",
     "text": [
      " of the time we can use white space.\n",
      "But what about fred@gmail.com or 13/01/2021?\n",
      "The students' attempts aren't working.\n",
      "Maybe it's the use of apostrophes? or it might need a more up-to-date model.\n",
      "\n"
     ]
    }
   ],
   "source": [
    "print(re.sub(pattern, \"\", text))"
   ]
  },
  {
   "cell_type": "code",
   "execution_count": 50,
   "id": "efbe54b9",
   "metadata": {},
   "outputs": [
    {
     "name": "stdout",
     "output_type": "stream",
     "text": [
      " of the time we can use white space.\n",
      " what about fred@gmail.com or 13/01/2021?\n",
      " students' attempts aren't working.\n",
      " it's the use of apostrophes? or it might need a more up-to-date model.\n",
      "\n"
     ]
    }
   ],
   "source": [
    "print(re.sub(pattern, \"\", text, flags=re.MULTILINE))"
   ]
  },
  {
   "cell_type": "code",
   "execution_count": 51,
   "id": "425ac52d",
   "metadata": {},
   "outputs": [],
   "source": [
    "pattern = '\\W$'"
   ]
  },
  {
   "cell_type": "code",
   "execution_count": 52,
   "id": "f3296ecd",
   "metadata": {},
   "outputs": [
    {
     "name": "stdout",
     "output_type": "stream",
     "text": [
      "Most of the time we can use white space.\n",
      "But what about fred@gmail.com or 13/01/2021?\n",
      "The students' attempts aren't working.\n",
      "Maybe it's the use of apostrophes? or it might need a more up-to-date model\n"
     ]
    }
   ],
   "source": [
    "print(re.sub(pattern, \"\", text))"
   ]
  },
  {
   "cell_type": "code",
   "execution_count": 53,
   "id": "5c0d62a5",
   "metadata": {},
   "outputs": [
    {
     "name": "stdout",
     "output_type": "stream",
     "text": [
      "Most of the time we can use white space\n",
      "But what about fred@gmail.com or 13/01/2021\n",
      "The students' attempts aren't working\n",
      "Maybe it's the use of apostrophes? or it might need a more up-to-date model\n"
     ]
    }
   ],
   "source": [
    "print(re.sub(pattern, \"\", text, flags=re.MULTILINE))"
   ]
  },
  {
   "cell_type": "code",
   "execution_count": 54,
   "id": "a5ef5ecf",
   "metadata": {},
   "outputs": [],
   "source": [
    "word = 'colour color'"
   ]
  },
  {
   "cell_type": "code",
   "execution_count": 56,
   "id": "008b7da0",
   "metadata": {},
   "outputs": [
    {
     "name": "stdout",
     "output_type": "stream",
     "text": [
      " color\n"
     ]
    }
   ],
   "source": [
    "print(re.sub('colo?ur', \"\",word))"
   ]
  },
  {
   "cell_type": "code",
   "execution_count": null,
   "id": "cccc7830",
   "metadata": {},
   "outputs": [],
   "source": []
  }
 ],
 "metadata": {
  "kernelspec": {
   "display_name": "Python 3",
   "language": "python",
   "name": "python3"
  },
  "language_info": {
   "codemirror_mode": {
    "name": "ipython",
    "version": 3
   },
   "file_extension": ".py",
   "mimetype": "text/x-python",
   "name": "python",
   "nbconvert_exporter": "python",
   "pygments_lexer": "ipython3",
   "version": "3.9.12"
  }
 },
 "nbformat": 4,
 "nbformat_minor": 5
}
