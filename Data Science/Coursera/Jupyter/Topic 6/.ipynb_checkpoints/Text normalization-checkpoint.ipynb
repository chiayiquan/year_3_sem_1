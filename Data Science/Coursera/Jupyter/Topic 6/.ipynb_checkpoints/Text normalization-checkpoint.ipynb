{
 "cells": [
  {
   "cell_type": "markdown",
   "id": "338e8e78",
   "metadata": {},
   "source": [
    "# Text normalization"
   ]
  },
  {
   "cell_type": "markdown",
   "id": "7955107f",
   "metadata": {},
   "source": [
    "- To relate variations of words to a common form/root, e.g. \n",
    "\n",
    "    run, runs, running -> run\n",
    "    \n",
    "    am, are, is -> be\n",
    "    \n",
    "- Includes both stemming and lemmatization\n",
    "- Need to consider both inflectional forms and derivational forms"
   ]
  },
  {
   "cell_type": "code",
   "execution_count": 1,
   "id": "41d56906",
   "metadata": {},
   "outputs": [],
   "source": [
    "import nltk"
   ]
  },
  {
   "cell_type": "code",
   "execution_count": 2,
   "id": "00c8c116",
   "metadata": {},
   "outputs": [
    {
     "name": "stderr",
     "output_type": "stream",
     "text": [
      "[nltk_data] Downloading package wordnet to C:\\Users\\yi\n",
      "[nltk_data]     quan\\AppData\\Roaming\\nltk_data...\n"
     ]
    },
    {
     "data": {
      "text/plain": [
       "True"
      ]
     },
     "execution_count": 2,
     "metadata": {},
     "output_type": "execute_result"
    }
   ],
   "source": [
    "from nltk.stem import PorterStemmer, WordNetLemmatizer\n",
    "from nltk import wordnet\n",
    "nltk.download('wordnet')"
   ]
  },
  {
   "cell_type": "code",
   "execution_count": 4,
   "id": "efeceda9",
   "metadata": {},
   "outputs": [],
   "source": [
    "stemmer = PorterStemmer()\n",
    "wnl = WordNetLemmatizer()"
   ]
  },
  {
   "cell_type": "code",
   "execution_count": 5,
   "id": "5592da7a",
   "metadata": {},
   "outputs": [],
   "source": [
    "word = 'meeting'"
   ]
  },
  {
   "cell_type": "code",
   "execution_count": 17,
   "id": "5e7ff1b9",
   "metadata": {},
   "outputs": [
    {
     "data": {
      "text/plain": [
       "('meet', 'meeting')"
      ]
     },
     "execution_count": 17,
     "metadata": {},
     "output_type": "execute_result"
    }
   ],
   "source": [
    "stemmer.stem(word), wnl.lemmatize(word)"
   ]
  },
  {
   "cell_type": "code",
   "execution_count": 12,
   "id": "d7966321",
   "metadata": {},
   "outputs": [],
   "source": [
    "words = ['I', 'am', 'going', 'to', 'a','meeting','about','data','science']"
   ]
  },
  {
   "cell_type": "code",
   "execution_count": 9,
   "id": "a426f4d8",
   "metadata": {},
   "outputs": [],
   "source": [
    "words = ['dogs','churches','aardwolves','abaci']"
   ]
  },
  {
   "cell_type": "code",
   "execution_count": 13,
   "id": "dfd6868c",
   "metadata": {},
   "outputs": [
    {
     "data": {
      "text/plain": [
       "['i', 'am', 'go', 'to', 'a', 'meet', 'about', 'data', 'scienc']"
      ]
     },
     "execution_count": 13,
     "metadata": {},
     "output_type": "execute_result"
    }
   ],
   "source": [
    "[stemmer.stem(word) for word in words]"
   ]
  },
  {
   "cell_type": "code",
   "execution_count": 15,
   "id": "213be22a",
   "metadata": {},
   "outputs": [
    {
     "data": {
      "text/plain": [
       "['I', 'be', 'go', 'to', 'a', 'meet', 'about', 'data', 'science']"
      ]
     },
     "execution_count": 15,
     "metadata": {},
     "output_type": "execute_result"
    }
   ],
   "source": [
    "[wnl.lemmatize(word, pos='v') for word in words]"
   ]
  },
  {
   "cell_type": "code",
   "execution_count": null,
   "id": "07699862",
   "metadata": {},
   "outputs": [],
   "source": []
  }
 ],
 "metadata": {
  "kernelspec": {
   "display_name": "Python 3",
   "language": "python",
   "name": "python3"
  },
  "language_info": {
   "codemirror_mode": {
    "name": "ipython",
    "version": 3
   },
   "file_extension": ".py",
   "mimetype": "text/x-python",
   "name": "python",
   "nbconvert_exporter": "python",
   "pygments_lexer": "ipython3",
   "version": "3.9.12"
  }
 },
 "nbformat": 4,
 "nbformat_minor": 5
}
