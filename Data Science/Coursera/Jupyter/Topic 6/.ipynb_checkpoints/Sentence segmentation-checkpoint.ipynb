{
 "cells": [
  {
   "cell_type": "markdown",
   "id": "ccb07e58",
   "metadata": {},
   "source": [
    "# Sentence segmentation"
   ]
  },
  {
   "cell_type": "markdown",
   "id": "8dfe5ac2",
   "metadata": {},
   "source": [
    "- using nltk http://www.nltk.org/\n",
    "- an open source platform for working with text data\n",
    "- provides access to many lexical resources and libraries for all sorts of NLP tasks"
   ]
  },
  {
   "cell_type": "code",
   "execution_count": 2,
   "id": "669715ae",
   "metadata": {},
   "outputs": [],
   "source": [
    "import nltk"
   ]
  },
  {
   "cell_type": "code",
   "execution_count": 4,
   "id": "9efc731f",
   "metadata": {},
   "outputs": [
    {
     "name": "stderr",
     "output_type": "stream",
     "text": [
      "[nltk_data] Downloading package punkt to C:\\Users\\yi\n",
      "[nltk_data]     quan\\AppData\\Roaming\\nltk_data...\n",
      "[nltk_data]   Package punkt is already up-to-date!\n"
     ]
    },
    {
     "data": {
      "text/plain": [
       "True"
      ]
     },
     "execution_count": 4,
     "metadata": {},
     "output_type": "execute_result"
    }
   ],
   "source": [
    "nltk.download('punkt')"
   ]
  },
  {
   "cell_type": "code",
   "execution_count": 20,
   "id": "de7fc50b",
   "metadata": {},
   "outputs": [],
   "source": [
    "text = '''Punctuation denotes the end of a sentence! \"But not always!\", said Fred...(who is a professor).\n",
    "Some sentences could break over multple lines and begin with a lower case letter. a1 could be a variable name.'''"
   ]
  },
  {
   "cell_type": "code",
   "execution_count": 21,
   "id": "ba924412",
   "metadata": {},
   "outputs": [
    {
     "data": {
      "text/plain": [
       "'Punctuation denotes the end of a sentence! \"But not always!\", said Fred...(who is a professor).\\nSome sentences could break over multple lines and begin with a lower case letter. a1 could be a variable name.'"
      ]
     },
     "execution_count": 21,
     "metadata": {},
     "output_type": "execute_result"
    }
   ],
   "source": [
    "text"
   ]
  },
  {
   "cell_type": "code",
   "execution_count": 22,
   "id": "74400d13",
   "metadata": {},
   "outputs": [],
   "source": [
    "sents = nltk.sent_tokenize(text)"
   ]
  },
  {
   "cell_type": "code",
   "execution_count": 23,
   "id": "17310128",
   "metadata": {},
   "outputs": [
    {
     "data": {
      "text/plain": [
       "'\"But not always!'"
      ]
     },
     "execution_count": 23,
     "metadata": {},
     "output_type": "execute_result"
    }
   ],
   "source": [
    "sents[1]"
   ]
  },
  {
   "cell_type": "code",
   "execution_count": 24,
   "id": "f4f7047c",
   "metadata": {},
   "outputs": [
    {
     "data": {
      "text/plain": [
       "5"
      ]
     },
     "execution_count": 24,
     "metadata": {},
     "output_type": "execute_result"
    }
   ],
   "source": [
    "len(sents)"
   ]
  },
  {
   "cell_type": "code",
   "execution_count": 25,
   "id": "65ab854c",
   "metadata": {},
   "outputs": [
    {
     "name": "stdout",
     "output_type": "stream",
     "text": [
      "Punctuation denotes the end of a sentence!\n",
      "\"But not always!\n",
      "\", said Fred...(who is a professor).\n",
      "Some sentences could break over multple lines and begin with a lower case letter.\n",
      "a1 could be a variable name.\n"
     ]
    }
   ],
   "source": [
    "for s in sents:\n",
    "    print(s)"
   ]
  },
  {
   "cell_type": "code",
   "execution_count": 26,
   "id": "9dfc282b",
   "metadata": {},
   "outputs": [
    {
     "name": "stdout",
     "output_type": "stream",
     "text": [
      "Punctuation denotes the end of a sentence!\n",
      "----\n",
      "\"But not always!\n",
      "----\n",
      "\", said Fred...(who is a professor).\n",
      "----\n",
      "Some sentences could break over multple lines and begin with a lower case letter.\n",
      "----\n",
      "a1 could be a variable name.\n"
     ]
    }
   ],
   "source": [
    "print('\\n----\\n'.join(sents))"
   ]
  },
  {
   "cell_type": "code",
   "execution_count": null,
   "id": "879ea88a",
   "metadata": {},
   "outputs": [],
   "source": []
  }
 ],
 "metadata": {
  "kernelspec": {
   "display_name": "Python 3",
   "language": "python",
   "name": "python3"
  },
  "language_info": {
   "codemirror_mode": {
    "name": "ipython",
    "version": 3
   },
   "file_extension": ".py",
   "mimetype": "text/x-python",
   "name": "python",
   "nbconvert_exporter": "python",
   "pygments_lexer": "ipython3",
   "version": "3.9.12"
  }
 },
 "nbformat": 4,
 "nbformat_minor": 5
}
