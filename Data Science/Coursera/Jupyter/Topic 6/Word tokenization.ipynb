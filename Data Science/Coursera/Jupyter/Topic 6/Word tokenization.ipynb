{
 "cells": [
  {
   "cell_type": "markdown",
   "id": "b5149bc3",
   "metadata": {},
   "source": [
    "# Word tokenization "
   ]
  },
  {
   "cell_type": "markdown",
   "id": "788c8cb8",
   "metadata": {},
   "source": [
    "- using nltk\n",
    "- subdividing a character string into a component words(tokens)\n",
    "- Can't we just use whitespace? Beware of compounds, punctuation, contractions, possessives...."
   ]
  },
  {
   "cell_type": "code",
   "execution_count": 4,
   "id": "fab51ef9",
   "metadata": {},
   "outputs": [],
   "source": [
    "import nltk"
   ]
  },
  {
   "cell_type": "code",
   "execution_count": 3,
   "id": "044542eb",
   "metadata": {},
   "outputs": [],
   "source": [
    "text = '''Most of the time we can use white space.\n",
    "But what about fred@gmail.com or 13/01/2021?\n",
    "The students' attempts aren't working.\n",
    "Maybe it's the use of apostrophes? or it might need a more up-to-date model.\n",
    "'''"
   ]
  },
  {
   "cell_type": "code",
   "execution_count": 5,
   "id": "7f31dd8b",
   "metadata": {},
   "outputs": [],
   "source": [
    "sents = nltk.sent_tokenize(text)"
   ]
  },
  {
   "cell_type": "code",
   "execution_count": 6,
   "id": "119e5df0",
   "metadata": {},
   "outputs": [
    {
     "name": "stdout",
     "output_type": "stream",
     "text": [
      "Most of the time we can use white space.\n",
      "----\n",
      "But what about fred@gmail.com or 13/01/2021?\n",
      "----\n",
      "The students' attempts aren't working.\n",
      "----\n",
      "Maybe it's the use of apostrophes?\n",
      "----\n",
      "or it might need a more up-to-date model.\n"
     ]
    }
   ],
   "source": [
    "print('\\n----\\n'.join(sents))"
   ]
  },
  {
   "cell_type": "code",
   "execution_count": 7,
   "id": "c308138e",
   "metadata": {},
   "outputs": [
    {
     "data": {
      "text/plain": [
       "[['Most', 'of', 'the', 'time', 'we', 'can', 'use', 'white', 'space', '.'],\n",
       " ['But', 'what', 'about', 'fred', '@', 'gmail.com', 'or', '13/01/2021', '?'],\n",
       " ['The', 'students', \"'\", 'attempts', 'are', \"n't\", 'working', '.'],\n",
       " ['Maybe', 'it', \"'s\", 'the', 'use', 'of', 'apostrophes', '?'],\n",
       " ['or', 'it', 'might', 'need', 'a', 'more', 'up-to-date', 'model', '.']]"
      ]
     },
     "execution_count": 7,
     "metadata": {},
     "output_type": "execute_result"
    }
   ],
   "source": [
    "[nltk.word_tokenize(s) for s in sents]"
   ]
  },
  {
   "cell_type": "code",
   "execution_count": null,
   "id": "2922c08e",
   "metadata": {},
   "outputs": [],
   "source": []
  }
 ],
 "metadata": {
  "kernelspec": {
   "display_name": "Python 3",
   "language": "python",
   "name": "python3"
  },
  "language_info": {
   "codemirror_mode": {
    "name": "ipython",
    "version": 3
   },
   "file_extension": ".py",
   "mimetype": "text/x-python",
   "name": "python",
   "nbconvert_exporter": "python",
   "pygments_lexer": "ipython3",
   "version": "3.9.12"
  }
 },
 "nbformat": 4,
 "nbformat_minor": 5
}
