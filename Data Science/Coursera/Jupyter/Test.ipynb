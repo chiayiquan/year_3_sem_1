{
 "cells": [
  {
   "cell_type": "code",
   "execution_count": 1,
   "id": "f87a6321",
   "metadata": {},
   "outputs": [],
   "source": [
    "import numpy as np"
   ]
  },
  {
   "cell_type": "code",
   "execution_count": 15,
   "id": "2a80c2ce",
   "metadata": {},
   "outputs": [],
   "source": [
    "A = np.array([[1,2,3,4],[5,6,7,8],[9,10,11,12],[13,14,15,16]])"
   ]
  },
  {
   "cell_type": "code",
   "execution_count": 17,
   "id": "17138355",
   "metadata": {},
   "outputs": [
    {
     "name": "stdout",
     "output_type": "stream",
     "text": [
      "[[ 1  2  3  4]\n",
      " [ 5  6  7  8]\n",
      " [ 9 10 11 12]\n",
      " [13 14 15 16]]\n"
     ]
    }
   ],
   "source": [
    "print(A)"
   ]
  },
  {
   "cell_type": "code",
   "execution_count": 20,
   "id": "358dd5b1",
   "metadata": {},
   "outputs": [],
   "source": [
    "B = A[1:4, 0:3]\n",
    "print(B)"
   ]
  },
  {
   "cell_type": "code",
   "execution_count": 22,
   "id": "e9fad1d4",
   "metadata": {},
   "outputs": [
    {
     "name": "stdout",
     "output_type": "stream",
     "text": [
      "[[ 1  2  3  4]\n",
      " [ 9 10 11 12]]\n"
     ]
    }
   ],
   "source": [
    "C = A[::2]\n",
    "print(C)"
   ]
  },
  {
   "cell_type": "code",
   "execution_count": 26,
   "id": "f215cb6b",
   "metadata": {},
   "outputs": [],
   "source": [
    "my_array = np.array([[1,2,3],[2,3,4],[2,5,6]])"
   ]
  },
  {
   "cell_type": "code",
   "execution_count": 27,
   "id": "dd2f622d",
   "metadata": {},
   "outputs": [
    {
     "data": {
      "text/plain": [
       "2.0"
      ]
     },
     "execution_count": 27,
     "metadata": {},
     "output_type": "execute_result"
    }
   ],
   "source": [
    "np.linalg.det(my_array)"
   ]
  },
  {
   "cell_type": "code",
   "execution_count": 28,
   "id": "5e5ee3d7",
   "metadata": {},
   "outputs": [
    {
     "data": {
      "text/plain": [
       "2"
      ]
     },
     "execution_count": 28,
     "metadata": {},
     "output_type": "execute_result"
    }
   ],
   "source": [
    "1*(3*6-4*5)-2*(2*6-4*2)+3*(2*5-3*2)"
   ]
  },
  {
   "cell_type": "code",
   "execution_count": null,
   "id": "9486e203",
   "metadata": {},
   "outputs": [],
   "source": []
  },
  {
   "cell_type": "code",
   "execution_count": null,
   "id": "81ba2f12",
   "metadata": {},
   "outputs": [],
   "source": [
    "[[1,2,3],[2,4,6],[2,5,6]]"
   ]
  },
  {
   "cell_type": "code",
   "execution_count": 30,
   "id": "4af6b4e2",
   "metadata": {},
   "outputs": [
    {
     "data": {
      "text/plain": [
       "0"
      ]
     },
     "execution_count": 30,
     "metadata": {},
     "output_type": "execute_result"
    }
   ],
   "source": [
    "1*(4*6-6*5)-2*(2*6-6*2)+3*(2*5-4*2)"
   ]
  },
  {
   "cell_type": "code",
   "execution_count": null,
   "id": "10190619",
   "metadata": {},
   "outputs": [],
   "source": []
  },
  {
   "cell_type": "code",
   "execution_count": 32,
   "id": "9b4ef68e",
   "metadata": {},
   "outputs": [],
   "source": [
    "my_array_2 = [[1,2,3],[2,3,4],[2,5,6]]"
   ]
  },
  {
   "cell_type": "code",
   "execution_count": 33,
   "id": "294d07d4",
   "metadata": {},
   "outputs": [
    {
     "data": {
      "text/plain": [
       "2.0"
      ]
     },
     "execution_count": 33,
     "metadata": {},
     "output_type": "execute_result"
    }
   ],
   "source": [
    "np.linalg.det(my_array_2)"
   ]
  },
  {
   "cell_type": "code",
   "execution_count": null,
   "id": "ab474a9d",
   "metadata": {},
   "outputs": [],
   "source": [
    "[[1,2,3],[2,3,4],[2,5,6]]"
   ]
  },
  {
   "cell_type": "code",
   "execution_count": 31,
   "id": "8428c482",
   "metadata": {},
   "outputs": [
    {
     "data": {
      "text/plain": [
       "2"
      ]
     },
     "execution_count": 31,
     "metadata": {},
     "output_type": "execute_result"
    }
   ],
   "source": [
    "1*(3*6-4*5)-2*(2*6-4*2)+3*(2*5-3*2)"
   ]
  },
  {
   "cell_type": "code",
   "execution_count": 35,
   "id": "64dfbb9d",
   "metadata": {},
   "outputs": [
    {
     "data": {
      "text/plain": [
       "array([[-1. ,  1.5, -0.5],\n",
       "       [-2. ,  0. ,  1. ],\n",
       "       [ 2. , -0.5, -0.5]])"
      ]
     },
     "execution_count": 35,
     "metadata": {},
     "output_type": "execute_result"
    }
   ],
   "source": [
    "np.linalg.inv(my_array_2)"
   ]
  },
  {
   "cell_type": "code",
   "execution_count": null,
   "id": "139be1f1",
   "metadata": {},
   "outputs": [],
   "source": []
  },
  {
   "cell_type": "code",
   "execution_count": 20,
   "id": "aa405f89",
   "metadata": {},
   "outputs": [],
   "source": [
    "new_array=[[1,2,3],[2,3,4],[4,6,8]]"
   ]
  },
  {
   "cell_type": "code",
   "execution_count": 21,
   "id": "3430d4d3",
   "metadata": {},
   "outputs": [
    {
     "data": {
      "text/plain": [
       "12"
      ]
     },
     "execution_count": 21,
     "metadata": {},
     "output_type": "execute_result"
    }
   ],
   "source": [
    "np.trace(new_array)"
   ]
  },
  {
   "cell_type": "code",
   "execution_count": 22,
   "id": "bfa501e5",
   "metadata": {},
   "outputs": [
    {
     "data": {
      "text/plain": [
       "0.0"
      ]
     },
     "execution_count": 22,
     "metadata": {},
     "output_type": "execute_result"
    }
   ],
   "source": [
    "np.linalg.det(new_array)"
   ]
  },
  {
   "cell_type": "code",
   "execution_count": 34,
   "id": "830d444b",
   "metadata": {},
   "outputs": [
    {
     "data": {
      "text/plain": [
       "0"
      ]
     },
     "execution_count": 34,
     "metadata": {},
     "output_type": "execute_result"
    }
   ],
   "source": [
    "1*(3*8-4*6)-2*(2*8-4*4)+3*(2*6-3*4)"
   ]
  },
  {
   "cell_type": "code",
   "execution_count": null,
   "id": "b542e574",
   "metadata": {},
   "outputs": [],
   "source": []
  }
 ],
 "metadata": {
  "kernelspec": {
   "display_name": "Python 3",
   "language": "python",
   "name": "python3"
  },
  "language_info": {
   "codemirror_mode": {
    "name": "ipython",
    "version": 3
   },
   "file_extension": ".py",
   "mimetype": "text/x-python",
   "name": "python",
   "nbconvert_exporter": "python",
   "pygments_lexer": "ipython3",
   "version": "3.9.12"
  }
 },
 "nbformat": 4,
 "nbformat_minor": 5
}
