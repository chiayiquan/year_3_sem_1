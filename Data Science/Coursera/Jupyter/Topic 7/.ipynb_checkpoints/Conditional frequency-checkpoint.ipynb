{
 "cells": [
  {
   "cell_type": "markdown",
   "id": "d229f8a7",
   "metadata": {},
   "source": [
    "# Conditional frequency distributions"
   ]
  },
  {
   "cell_type": "markdown",
   "id": "b1cd2d57",
   "metadata": {},
   "source": [
    "## 1. Text corpora\n",
    "\n",
    "The Brown corpus(1961) contians text from 500 sources, categorized by genre(e.g. news, editorial, hobbies, fiction, etc.)"
   ]
  },
  {
   "cell_type": "code",
   "execution_count": 1,
   "id": "0afa7d2f",
   "metadata": {},
   "outputs": [
    {
     "name": "stderr",
     "output_type": "stream",
     "text": [
      "[nltk_data] Downloading package brown to C:\\Users\\yi\n",
      "[nltk_data]     quan\\AppData\\Roaming\\nltk_data...\n",
      "[nltk_data]   Package brown is already up-to-date!\n"
     ]
    },
    {
     "data": {
      "text/plain": [
       "True"
      ]
     },
     "execution_count": 1,
     "metadata": {},
     "output_type": "execute_result"
    }
   ],
   "source": [
    "import nltk\n",
    "from nltk.corpus import brown\n",
    "nltk.download('brown')"
   ]
  },
  {
   "cell_type": "code",
   "execution_count": 3,
   "id": "b21e98c3",
   "metadata": {},
   "outputs": [
    {
     "data": {
      "text/plain": [
       "['adventure',\n",
       " 'belles_lettres',\n",
       " 'editorial',\n",
       " 'fiction',\n",
       " 'government',\n",
       " 'hobbies',\n",
       " 'humor',\n",
       " 'learned',\n",
       " 'lore',\n",
       " 'mystery',\n",
       " 'news',\n",
       " 'religion',\n",
       " 'reviews',\n",
       " 'romance',\n",
       " 'science_fiction']"
      ]
     },
     "execution_count": 3,
     "metadata": {},
     "output_type": "execute_result"
    }
   ],
   "source": [
    "brown.categories()"
   ]
  },
  {
   "cell_type": "code",
   "execution_count": 6,
   "id": "650c1ea9",
   "metadata": {},
   "outputs": [
    {
     "data": {
      "text/plain": [
       "['In', 'American', 'romance', ',', 'almost', 'nothing', ...]"
      ]
     },
     "execution_count": 6,
     "metadata": {},
     "output_type": "execute_result"
    }
   ],
   "source": [
    "brown.words(categories='lore')"
   ]
  },
  {
   "cell_type": "markdown",
   "id": "e2dc5a4d",
   "metadata": {},
   "source": [
    "## 2. Conditional frequency distrbutions"
   ]
  },
  {
   "cell_type": "code",
   "execution_count": 7,
   "id": "8656414c",
   "metadata": {},
   "outputs": [],
   "source": [
    "cfd = nltk.ConditionalFreqDist((genre,word)\n",
    "                              for genre in brown.categories()\n",
    "                              for word in brown.words(categories=genre))"
   ]
  },
  {
   "cell_type": "code",
   "execution_count": 8,
   "id": "06dc9067",
   "metadata": {},
   "outputs": [
    {
     "data": {
      "text/plain": [
       "FreqDist({'the': 5580, ',': 5188, '.': 4030, 'of': 2849, 'and': 2146, 'to': 2116, 'a': 1993, 'in': 1893, 'for': 943, 'The': 806, ...})"
      ]
     },
     "execution_count": 8,
     "metadata": {},
     "output_type": "execute_result"
    }
   ],
   "source": [
    "cfd['news']"
   ]
  },
  {
   "cell_type": "code",
   "execution_count": 9,
   "id": "cb8520ef",
   "metadata": {},
   "outputs": [
    {
     "data": {
      "text/plain": [
       "FreqDist({',': 791, '.': 786, 'the': 652, 'of': 321, 'to': 305, 'and': 278, '``': 235, \"''\": 235, 'a': 222, 'was': 198, ...})"
      ]
     },
     "execution_count": 9,
     "metadata": {},
     "output_type": "execute_result"
    }
   ],
   "source": [
    "cfd['science_fiction']"
   ]
  },
  {
   "cell_type": "code",
   "execution_count": 10,
   "id": "1457e24b",
   "metadata": {},
   "outputs": [],
   "source": [
    "from nltk.corpus import udhr"
   ]
  },
  {
   "cell_type": "code",
   "execution_count": 11,
   "id": "74604bfe",
   "metadata": {},
   "outputs": [],
   "source": [
    "languages = ['English', 'German_Deutsch', 'Swahili_Kiswahili', 'Hungarian_Magyar']"
   ]
  },
  {
   "cell_type": "code",
   "execution_count": 12,
   "id": "8daf193f",
   "metadata": {},
   "outputs": [
    {
     "name": "stderr",
     "output_type": "stream",
     "text": [
      "[nltk_data] Downloading package udhr to C:\\Users\\yi\n",
      "[nltk_data]     quan\\AppData\\Roaming\\nltk_data...\n",
      "[nltk_data]   Package udhr is already up-to-date!\n"
     ]
    },
    {
     "data": {
      "text/plain": [
       "True"
      ]
     },
     "execution_count": 12,
     "metadata": {},
     "output_type": "execute_result"
    }
   ],
   "source": [
    "nltk.download('udhr')"
   ]
  },
  {
   "cell_type": "markdown",
   "id": "676fe02a",
   "metadata": {},
   "source": [
    "#### Can we find evidence of compounding?"
   ]
  },
  {
   "cell_type": "code",
   "execution_count": 13,
   "id": "b627050b",
   "metadata": {},
   "outputs": [],
   "source": [
    "cfd = nltk.ConditionalFreqDist((lang,len(word)) \n",
    "                              for lang in languages\n",
    "                              for word in udhr.words(lang+'-Latin1'))"
   ]
  },
  {
   "cell_type": "code",
   "execution_count": 14,
   "id": "55e3ca6b",
   "metadata": {},
   "outputs": [
    {
     "name": "stdout",
     "output_type": "stream",
     "text": [
      "                    1   2   3   4   5   6   7   8   9  10  11  12  13  14  15  16  17  18  19  20  21  22 \n",
      "          English 185 340 358 114 169 117 157 118  80  63  50  12  11   6   1   0   0   0   0   0   0   0 \n",
      "   German_Deutsch 171  92 351 103 177 119  97 103  62  58  53  32  27  29  15  14   3   7   5   2   1   0 \n",
      " Hungarian_Magyar 302 129  72 152 112 114  91 109  90 105  71  48  38  17  13   8   3   7   2   1   0   1 \n",
      "Swahili_Kiswahili 194 386 214 365 165 183 135 101  53  46  23  11   8   2   1   0   0   0   0   0   0   0 \n"
     ]
    }
   ],
   "source": [
    "cfd.tabulate()"
   ]
  },
  {
   "cell_type": "code",
   "execution_count": 15,
   "id": "81487df5",
   "metadata": {},
   "outputs": [
    {
     "data": {
      "image/png": "[encoded data removed]",
      "text/plain": [
       "<Figure size 432x288 with 1 Axes>"
      ]
     },
     "metadata": {
      "needs_background": "light"
     },
     "output_type": "display_data"
    },
    {
     "data": {
      "text/plain": [
       "<AxesSubplot:xlabel='Samples', ylabel='Counts'>"
      ]
     },
     "execution_count": 15,
     "metadata": {},
     "output_type": "execute_result"
    }
   ],
   "source": [
    "cfd.plot()"
   ]
  },
  {
   "cell_type": "markdown",
   "id": "8e526ddd",
   "metadata": {},
   "source": [
    "## 3.Generating fake news\n",
    "\n",
    "Using bigrams to produce random text"
   ]
  },
  {
   "cell_type": "code",
   "execution_count": 34,
   "id": "44a201b5",
   "metadata": {},
   "outputs": [],
   "source": [
    "s = ['The', 'cat', 'sat', 'on', 'the', 'mat', '.']"
   ]
  },
  {
   "cell_type": "code",
   "execution_count": 35,
   "id": "36a05ae5",
   "metadata": {},
   "outputs": [
    {
     "data": {
      "text/plain": [
       "[('The', 'cat'), ('cat', 'sat'), ('sat', 'on'), ('on', 'the'), ('the', 'mat')]"
      ]
     },
     "execution_count": 35,
     "metadata": {},
     "output_type": "execute_result"
    }
   ],
   "source": [
    "list(nltk.bigrams(s))"
   ]
  },
  {
   "cell_type": "code",
   "execution_count": 18,
   "id": "be9e598b",
   "metadata": {},
   "outputs": [],
   "source": [
    "text = brown.words(categories='news')\n",
    "bigrams = nltk.bigrams(text)\n",
    "cfd = nltk.ConditionalFreqDist(bigrams)"
   ]
  },
  {
   "cell_type": "code",
   "execution_count": 19,
   "id": "da55a8fc",
   "metadata": {},
   "outputs": [],
   "source": [
    "def generate_text(cfdist, word, num=50):\n",
    "    for i in range(num):\n",
    "        print(word, end=' ')\n",
    "        word = cfdist[word].max()"
   ]
  },
  {
   "cell_type": "code",
   "execution_count": 32,
   "id": "19f46198",
   "metadata": {},
   "outputs": [
    {
     "data": {
      "text/plain": [
       "FreqDist({'.': 6, ',': 4, 'would': 3, 'and': 3, 'decided': 3, 'to': 2, 'is': 2, 'of': 2, 'itself': 2, 'as': 2, ...})"
      ]
     },
     "execution_count": 32,
     "metadata": {},
     "output_type": "execute_result"
    }
   ],
   "source": [
    "cfd.get('government')"
   ]
  },
  {
   "cell_type": "code",
   "execution_count": 33,
   "id": "ec303210",
   "metadata": {},
   "outputs": [
    {
     "name": "stdout",
     "output_type": "stream",
     "text": [
      "government . The President Kennedy , and the first time . The President Kennedy , and the first time . The President Kennedy , and the first time . The President Kennedy , and the first time . The President Kennedy , and the first time . The President Kennedy "
     ]
    }
   ],
   "source": [
    "generate_text(cfd,'government')"
   ]
  },
  {
   "cell_type": "code",
   "execution_count": null,
   "id": "e48c9988",
   "metadata": {},
   "outputs": [],
   "source": []
  }
 ],
 "metadata": {
  "kernelspec": {
   "display_name": "Python 3",
   "language": "python",
   "name": "python3"
  },
  "language_info": {
   "codemirror_mode": {
    "name": "ipython",
    "version": 3
   },
   "file_extension": ".py",
   "mimetype": "text/x-python",
   "name": "python",
   "nbconvert_exporter": "python",
   "pygments_lexer": "ipython3",
   "version": "3.9.12"
  }
 },
 "nbformat": 4,
 "nbformat_minor": 5
}
