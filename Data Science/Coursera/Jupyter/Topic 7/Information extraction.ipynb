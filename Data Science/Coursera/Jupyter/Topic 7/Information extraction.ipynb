{
 "cells": [
  {
   "cell_type": "markdown",
   "id": "c3c862d6",
   "metadata": {},
   "source": [
    "# Information extraction\n",
    "\n",
    "## 1. POS tagging\n",
    "\n",
    "Tagging words with their part of speech\n",
    "\n",
    "Lexical categories, based on a specific target"
   ]
  },
  {
   "cell_type": "code",
   "execution_count": 1,
   "id": "5a8a6a8c",
   "metadata": {},
   "outputs": [],
   "source": [
    "import nltk"
   ]
  },
  {
   "cell_type": "code",
   "execution_count": 2,
   "id": "2b171ed2",
   "metadata": {},
   "outputs": [],
   "source": [
    "sent = '''\n",
    "\"Mexico has been trying to stage a recovery since the beginning of this year and it's always been getting ahead of itself in terms of fundamentals,\"\n",
    "said Matthew Hickman of Lehman Brothers in New York.\n",
    "'''"
   ]
  },
  {
   "cell_type": "code",
   "execution_count": 3,
   "id": "7be0fb6b",
   "metadata": {},
   "outputs": [],
   "source": [
    "tok_sent = nltk.word_tokenize(sent)"
   ]
  },
  {
   "cell_type": "code",
   "execution_count": 4,
   "id": "dbbdb7e9",
   "metadata": {},
   "outputs": [
    {
     "data": {
      "text/plain": [
       "[\"''\",\n",
       " 'Mexico',\n",
       " 'has',\n",
       " 'been',\n",
       " 'trying',\n",
       " 'to',\n",
       " 'stage',\n",
       " 'a',\n",
       " 'recovery',\n",
       " 'since',\n",
       " 'the',\n",
       " 'beginning',\n",
       " 'of',\n",
       " 'this',\n",
       " 'year',\n",
       " 'and',\n",
       " 'it',\n",
       " \"'s\",\n",
       " 'always',\n",
       " 'been',\n",
       " 'getting',\n",
       " 'ahead',\n",
       " 'of',\n",
       " 'itself',\n",
       " 'in',\n",
       " 'terms',\n",
       " 'of',\n",
       " 'fundamentals',\n",
       " ',',\n",
       " \"''\",\n",
       " 'said',\n",
       " 'Matthew',\n",
       " 'Hickman',\n",
       " 'of',\n",
       " 'Lehman',\n",
       " 'Brothers',\n",
       " 'in',\n",
       " 'New',\n",
       " 'York',\n",
       " '.']"
      ]
     },
     "execution_count": 4,
     "metadata": {},
     "output_type": "execute_result"
    }
   ],
   "source": [
    "tok_sent"
   ]
  },
  {
   "cell_type": "code",
   "execution_count": 5,
   "id": "3ef264cd",
   "metadata": {},
   "outputs": [
    {
     "name": "stderr",
     "output_type": "stream",
     "text": [
      "[nltk_data] Downloading package averaged_perceptron_tagger to\n",
      "[nltk_data]     C:\\Users\\yi quan\\AppData\\Roaming\\nltk_data...\n",
      "[nltk_data]   Package averaged_perceptron_tagger is already up-to-\n",
      "[nltk_data]       date!\n"
     ]
    },
    {
     "data": {
      "text/plain": [
       "True"
      ]
     },
     "execution_count": 5,
     "metadata": {},
     "output_type": "execute_result"
    }
   ],
   "source": [
    "nltk.download('averaged_perceptron_tagger')"
   ]
  },
  {
   "cell_type": "code",
   "execution_count": 6,
   "id": "42e8e909",
   "metadata": {},
   "outputs": [
    {
     "data": {
      "text/plain": [
       "[(\"''\", \"''\"),\n",
       " ('Mexico', 'NNP'),\n",
       " ('has', 'VBZ'),\n",
       " ('been', 'VBN'),\n",
       " ('trying', 'VBG'),\n",
       " ('to', 'TO'),\n",
       " ('stage', 'VB'),\n",
       " ('a', 'DT'),\n",
       " ('recovery', 'NN'),\n",
       " ('since', 'IN'),\n",
       " ('the', 'DT'),\n",
       " ('beginning', 'NN'),\n",
       " ('of', 'IN'),\n",
       " ('this', 'DT'),\n",
       " ('year', 'NN'),\n",
       " ('and', 'CC'),\n",
       " ('it', 'PRP'),\n",
       " (\"'s\", 'VBZ'),\n",
       " ('always', 'RB'),\n",
       " ('been', 'VBN'),\n",
       " ('getting', 'VBG'),\n",
       " ('ahead', 'RB'),\n",
       " ('of', 'IN'),\n",
       " ('itself', 'PRP'),\n",
       " ('in', 'IN'),\n",
       " ('terms', 'NNS'),\n",
       " ('of', 'IN'),\n",
       " ('fundamentals', 'NNS'),\n",
       " (',', ','),\n",
       " (\"''\", \"''\"),\n",
       " ('said', 'VBD'),\n",
       " ('Matthew', 'NNP'),\n",
       " ('Hickman', 'NNP'),\n",
       " ('of', 'IN'),\n",
       " ('Lehman', 'NNP'),\n",
       " ('Brothers', 'NNPS'),\n",
       " ('in', 'IN'),\n",
       " ('New', 'NNP'),\n",
       " ('York', 'NNP'),\n",
       " ('.', '.')]"
      ]
     },
     "execution_count": 6,
     "metadata": {},
     "output_type": "execute_result"
    }
   ],
   "source": [
    "nltk.pos_tag(tok_sent)"
   ]
  },
  {
   "cell_type": "code",
   "execution_count": 7,
   "id": "9ffd528d",
   "metadata": {},
   "outputs": [],
   "source": [
    "tok_sent = nltk.word_tokenize('They refuse to permit us to obtain the refuse permit')"
   ]
  },
  {
   "cell_type": "code",
   "execution_count": 8,
   "id": "3a72229e",
   "metadata": {},
   "outputs": [
    {
     "data": {
      "text/plain": [
       "[('They', 'PRP'),\n",
       " ('refuse', 'VBP'),\n",
       " ('to', 'TO'),\n",
       " ('permit', 'VB'),\n",
       " ('us', 'PRP'),\n",
       " ('to', 'TO'),\n",
       " ('obtain', 'VB'),\n",
       " ('the', 'DT'),\n",
       " ('refuse', 'NN'),\n",
       " ('permit', 'NN')]"
      ]
     },
     "execution_count": 8,
     "metadata": {},
     "output_type": "execute_result"
    }
   ],
   "source": [
    "nltk.pos_tag(tok_sent)"
   ]
  },
  {
   "cell_type": "code",
   "execution_count": 9,
   "id": "8c400812",
   "metadata": {},
   "outputs": [
    {
     "name": "stderr",
     "output_type": "stream",
     "text": [
      "[nltk_data] Downloading package tagsets to C:\\Users\\yi\n",
      "[nltk_data]     quan\\AppData\\Roaming\\nltk_data...\n",
      "[nltk_data]   Package tagsets is already up-to-date!\n"
     ]
    },
    {
     "data": {
      "text/plain": [
       "True"
      ]
     },
     "execution_count": 9,
     "metadata": {},
     "output_type": "execute_result"
    }
   ],
   "source": [
    "nltk.download('tagsets')"
   ]
  },
  {
   "cell_type": "code",
   "execution_count": 10,
   "id": "5c53a40c",
   "metadata": {},
   "outputs": [
    {
     "name": "stdout",
     "output_type": "stream",
     "text": [
      "$: dollar\n",
      "    $ -$ --$ A$ C$ HK$ M$ NZ$ S$ U.S.$ US$\n",
      "'': closing quotation mark\n",
      "    ' ''\n",
      "(: opening parenthesis\n",
      "    ( [ {\n",
      "): closing parenthesis\n",
      "    ) ] }\n",
      ",: comma\n",
      "    ,\n",
      "--: dash\n",
      "    --\n",
      ".: sentence terminator\n",
      "    . ! ?\n",
      ":: colon or ellipsis\n",
      "    : ; ...\n",
      "CC: conjunction, coordinating\n",
      "    & 'n and both but either et for less minus neither nor or plus so\n",
      "    therefore times v. versus vs. whether yet\n",
      "CD: numeral, cardinal\n",
      "    mid-1890 nine-thirty forty-two one-tenth ten million 0.5 one forty-\n",
      "    seven 1987 twenty '79 zero two 78-degrees eighty-four IX '60s .025\n",
      "    fifteen 271,124 dozen quintillion DM2,000 ...\n",
      "DT: determiner\n",
      "    all an another any both del each either every half la many much nary\n",
      "    neither no some such that the them these this those\n",
      "EX: existential there\n",
      "    there\n",
      "FW: foreign word\n",
      "    gemeinschaft hund ich jeux habeas Haementeria Herr K'ang-si vous\n",
      "    lutihaw alai je jour objets salutaris fille quibusdam pas trop Monte\n",
      "    terram fiche oui corporis ...\n",
      "IN: preposition or conjunction, subordinating\n",
      "    astride among uppon whether out inside pro despite on by throughout\n",
      "    below within for towards near behind atop around if like until below\n",
      "    next into if beside ...\n",
      "JJ: adjective or numeral, ordinal\n",
      "    third ill-mannered pre-war regrettable oiled calamitous first separable\n",
      "    ectoplasmic battery-powered participatory fourth still-to-be-named\n",
      "    multilingual multi-disciplinary ...\n",
      "JJR: adjective, comparative\n",
      "    bleaker braver breezier briefer brighter brisker broader bumper busier\n",
      "    calmer cheaper choosier cleaner clearer closer colder commoner costlier\n",
      "    cozier creamier crunchier cuter ...\n",
      "JJS: adjective, superlative\n",
      "    calmest cheapest choicest classiest cleanest clearest closest commonest\n",
      "    corniest costliest crassest creepiest crudest cutest darkest deadliest\n",
      "    dearest deepest densest dinkiest ...\n",
      "LS: list item marker\n",
      "    A A. B B. C C. D E F First G H I J K One SP-44001 SP-44002 SP-44005\n",
      "    SP-44007 Second Third Three Two * a b c d first five four one six three\n",
      "    two\n",
      "MD: modal auxiliary\n",
      "    can cannot could couldn't dare may might must need ought shall should\n",
      "    shouldn't will would\n",
      "NN: noun, common, singular or mass\n",
      "    common-carrier cabbage knuckle-duster Casino afghan shed thermostat\n",
      "    investment slide humour falloff slick wind hyena override subhumanity\n",
      "    machinist ...\n",
      "NNP: noun, proper, singular\n",
      "    Motown Venneboerger Czestochwa Ranzer Conchita Trumplane Christos\n",
      "    Oceanside Escobar Kreisler Sawyer Cougar Yvette Ervin ODI Darryl CTCA\n",
      "    Shannon A.K.C. Meltex Liverpool ...\n",
      "NNPS: noun, proper, plural\n",
      "    Americans Americas Amharas Amityvilles Amusements Anarcho-Syndicalists\n",
      "    Andalusians Andes Andruses Angels Animals Anthony Antilles Antiques\n",
      "    Apache Apaches Apocrypha ...\n",
      "NNS: noun, common, plural\n",
      "    undergraduates scotches bric-a-brac products bodyguards facets coasts\n",
      "    divestitures storehouses designs clubs fragrances averages\n",
      "    subjectivists apprehensions muses factory-jobs ...\n",
      "PDT: pre-determiner\n",
      "    all both half many quite such sure this\n",
      "POS: genitive marker\n",
      "    ' 's\n",
      "PRP: pronoun, personal\n",
      "    hers herself him himself hisself it itself me myself one oneself ours\n",
      "    ourselves ownself self she thee theirs them themselves they thou thy us\n",
      "PRP$: pronoun, possessive\n",
      "    her his mine my our ours their thy your\n",
      "RB: adverb\n",
      "    occasionally unabatingly maddeningly adventurously professedly\n",
      "    stirringly prominently technologically magisterially predominately\n",
      "    swiftly fiscally pitilessly ...\n",
      "RBR: adverb, comparative\n",
      "    further gloomier grander graver greater grimmer harder harsher\n",
      "    healthier heavier higher however larger later leaner lengthier less-\n",
      "    perfectly lesser lonelier longer louder lower more ...\n",
      "RBS: adverb, superlative\n",
      "    best biggest bluntest earliest farthest first furthest hardest\n",
      "    heartiest highest largest least less most nearest second tightest worst\n",
      "RP: particle\n",
      "    aboard about across along apart around aside at away back before behind\n",
      "    by crop down ever fast for forth from go high i.e. in into just later\n",
      "    low more off on open out over per pie raising start teeth that through\n",
      "    under unto up up-pp upon whole with you\n",
      "SYM: symbol\n",
      "    % & ' '' ''. ) ). * + ,. < = > @ A[fj] U.S U.S.S.R * ** ***\n",
      "TO: \"to\" as preposition or infinitive marker\n",
      "    to\n",
      "UH: interjection\n",
      "    Goodbye Goody Gosh Wow Jeepers Jee-sus Hubba Hey Kee-reist Oops amen\n",
      "    huh howdy uh dammit whammo shucks heck anyways whodunnit honey golly\n",
      "    man baby diddle hush sonuvabitch ...\n",
      "VB: verb, base form\n",
      "    ask assemble assess assign assume atone attention avoid bake balkanize\n",
      "    bank begin behold believe bend benefit bevel beware bless boil bomb\n",
      "    boost brace break bring broil brush build ...\n",
      "VBD: verb, past tense\n",
      "    dipped pleaded swiped regummed soaked tidied convened halted registered\n",
      "    cushioned exacted snubbed strode aimed adopted belied figgered\n",
      "    speculated wore appreciated contemplated ...\n",
      "VBG: verb, present participle or gerund\n",
      "    telegraphing stirring focusing angering judging stalling lactating\n",
      "    hankerin' alleging veering capping approaching traveling besieging\n",
      "    encrypting interrupting erasing wincing ...\n",
      "VBN: verb, past participle\n",
      "    multihulled dilapidated aerosolized chaired languished panelized used\n",
      "    experimented flourished imitated reunifed factored condensed sheared\n",
      "    unsettled primed dubbed desired ...\n",
      "VBP: verb, present tense, not 3rd person singular\n",
      "    predominate wrap resort sue twist spill cure lengthen brush terminate\n",
      "    appear tend stray glisten obtain comprise detest tease attract\n",
      "    emphasize mold postpone sever return wag ...\n",
      "VBZ: verb, present tense, 3rd person singular\n",
      "    bases reconstructs marks mixes displeases seals carps weaves snatches\n",
      "    slumps stretches authorizes smolders pictures emerges stockpiles\n",
      "    seduces fizzes uses bolsters slaps speaks pleads ...\n",
      "WDT: WH-determiner\n",
      "    that what whatever which whichever\n",
      "WP: WH-pronoun\n",
      "    that what whatever whatsoever which who whom whosoever\n",
      "WP$: WH-pronoun, possessive\n",
      "    whose\n",
      "WRB: Wh-adverb\n",
      "    how however whence whenever where whereby whereever wherein whereof why\n",
      "``: opening quotation mark\n",
      "    ` ``\n"
     ]
    }
   ],
   "source": [
    "nltk.help.upenn_tagset()"
   ]
  },
  {
   "cell_type": "markdown",
   "id": "9b9dcfaa",
   "metadata": {},
   "source": [
    "## 2. Information extraction\n",
    "\n",
    "Identifying structure in unstructued data"
   ]
  },
  {
   "cell_type": "code",
   "execution_count": 11,
   "id": "532f63db",
   "metadata": {},
   "outputs": [],
   "source": [
    "rels = [('Matthew Hickman', 'WORKS_FOR', 'Lehman Brothers'),\n",
    "       ('Lehman Brothers','IN','New York')]"
   ]
  },
  {
   "cell_type": "code",
   "execution_count": 12,
   "id": "fbe04f52",
   "metadata": {},
   "outputs": [
    {
     "data": {
      "text/plain": [
       "['Lehman Brothers']"
      ]
     },
     "execution_count": 12,
     "metadata": {},
     "output_type": "execute_result"
    }
   ],
   "source": [
    "# who is based in NY?\n",
    "[e1 for (e1,rel,e2) in rels if (rel=='IN' and e2=='New York')]"
   ]
  },
  {
   "cell_type": "code",
   "execution_count": 13,
   "id": "fa8d3696",
   "metadata": {},
   "outputs": [
    {
     "data": {
      "text/plain": [
       "['Matthew Hickman']"
      ]
     },
     "execution_count": 13,
     "metadata": {},
     "output_type": "execute_result"
    }
   ],
   "source": [
    "# who works for Lehman\n",
    "[e1 for (e1,rel,e2) in rels if (rel=='WORKS_FOR' and e2=='Lehman Brothers')]"
   ]
  },
  {
   "cell_type": "code",
   "execution_count": 14,
   "id": "b6ce3dd4",
   "metadata": {},
   "outputs": [],
   "source": [
    "sent = '''\n",
    "\"Mexico has been trying to stage a recovery since the beginning of this year and it's always been getting ahead of itself in terms of fundamentals,\"\n",
    "said Matthew Hickman of Lehman Brothers in New York.\n",
    "'''"
   ]
  },
  {
   "cell_type": "code",
   "execution_count": 15,
   "id": "607d314b",
   "metadata": {},
   "outputs": [
    {
     "data": {
      "text/plain": [
       "'\\n\"Mexico has been trying to stage a recovery since the beginning of this year and it\\'s always been getting ahead of itself in terms of fundamentals,\"\\nsaid Matthew Hickman of Lehman Brothers in New York.\\n'"
      ]
     },
     "execution_count": 15,
     "metadata": {},
     "output_type": "execute_result"
    }
   ],
   "source": [
    "sent"
   ]
  },
  {
   "cell_type": "code",
   "execution_count": 16,
   "id": "ef09239c",
   "metadata": {},
   "outputs": [],
   "source": [
    "def ie_preprocess(document):\n",
    "    sentences = nltk.sent_tokenize(document)\n",
    "    sentences = [nltk.word_tokenize(sent) for sent in sentences]\n",
    "    sentences = [nltk.pos_tag(sent) for sent in sentences]\n",
    "    return sentences"
   ]
  },
  {
   "cell_type": "code",
   "execution_count": 17,
   "id": "70f4e74b",
   "metadata": {},
   "outputs": [],
   "source": [
    "pp_sent = ie_preprocess(sent)"
   ]
  },
  {
   "cell_type": "code",
   "execution_count": 18,
   "id": "78c82e3f",
   "metadata": {},
   "outputs": [
    {
     "name": "stdout",
     "output_type": "stream",
     "text": [
      "[[(\"''\", \"''\"), ('Mexico', 'NNP'), ('has', 'VBZ'), ('been', 'VBN'), ('trying', 'VBG'), ('to', 'TO'), ('stage', 'VB'), ('a', 'DT'), ('recovery', 'NN'), ('since', 'IN'), ('the', 'DT'), ('beginning', 'NN'), ('of', 'IN'), ('this', 'DT'), ('year', 'NN'), ('and', 'CC'), ('it', 'PRP'), (\"'s\", 'VBZ'), ('always', 'RB'), ('been', 'VBN'), ('getting', 'VBG'), ('ahead', 'RB'), ('of', 'IN'), ('itself', 'PRP'), ('in', 'IN'), ('terms', 'NNS'), ('of', 'IN'), ('fundamentals', 'NNS'), (',', ','), (\"''\", \"''\"), ('said', 'VBD'), ('Matthew', 'NNP'), ('Hickman', 'NNP'), ('of', 'IN'), ('Lehman', 'NNP'), ('Brothers', 'NNPS'), ('in', 'IN'), ('New', 'NNP'), ('York', 'NNP'), ('.', '.')]]\n"
     ]
    }
   ],
   "source": [
    "print(pp_sent)"
   ]
  },
  {
   "attachments": {
    "image-2.png": {
     "image/png": "[encoded data removed]"
    }
   },
   "cell_type": "markdown",
   "id": "2643056f",
   "metadata": {},
   "source": [
    "## 3. Named entity recognition\n",
    "\n",
    "### Common named entity types\n",
    "\n",
    "![image-2.png](attachment:image-2.png)"
   ]
  },
  {
   "cell_type": "code",
   "execution_count": 19,
   "id": "ba5437e5",
   "metadata": {},
   "outputs": [
    {
     "name": "stderr",
     "output_type": "stream",
     "text": [
      "[nltk_data] Downloading package maxent_ne_chunker to C:\\Users\\yi\n",
      "[nltk_data]     quan\\AppData\\Roaming\\nltk_data...\n",
      "[nltk_data]   Package maxent_ne_chunker is already up-to-date!\n"
     ]
    },
    {
     "data": {
      "text/plain": [
       "True"
      ]
     },
     "execution_count": 19,
     "metadata": {},
     "output_type": "execute_result"
    }
   ],
   "source": [
    "nltk.download('maxent_ne_chunker')"
   ]
  },
  {
   "cell_type": "code",
   "execution_count": 20,
   "id": "ad9a552b",
   "metadata": {},
   "outputs": [
    {
     "name": "stderr",
     "output_type": "stream",
     "text": [
      "[nltk_data] Downloading package words to C:\\Users\\yi\n",
      "[nltk_data]     quan\\AppData\\Roaming\\nltk_data...\n",
      "[nltk_data]   Package words is already up-to-date!\n"
     ]
    },
    {
     "data": {
      "text/plain": [
       "True"
      ]
     },
     "execution_count": 20,
     "metadata": {},
     "output_type": "execute_result"
    }
   ],
   "source": [
    "nltk.download('words')"
   ]
  },
  {
   "cell_type": "code",
   "execution_count": 21,
   "id": "7c373eda",
   "metadata": {},
   "outputs": [],
   "source": [
    "nerResults = [nltk.ne_chunk(pts) for pts in pp_sent]"
   ]
  },
  {
   "cell_type": "code",
   "execution_count": 22,
   "id": "3d6282df",
   "metadata": {},
   "outputs": [
    {
     "data": {
      "text/plain": [
       "[Tree('S', [(\"''\", \"''\"), Tree('GPE', [('Mexico', 'NNP')]), ('has', 'VBZ'), ('been', 'VBN'), ('trying', 'VBG'), ('to', 'TO'), ('stage', 'VB'), ('a', 'DT'), ('recovery', 'NN'), ('since', 'IN'), ('the', 'DT'), ('beginning', 'NN'), ('of', 'IN'), ('this', 'DT'), ('year', 'NN'), ('and', 'CC'), ('it', 'PRP'), (\"'s\", 'VBZ'), ('always', 'RB'), ('been', 'VBN'), ('getting', 'VBG'), ('ahead', 'RB'), ('of', 'IN'), ('itself', 'PRP'), ('in', 'IN'), ('terms', 'NNS'), ('of', 'IN'), ('fundamentals', 'NNS'), (',', ','), (\"''\", \"''\"), ('said', 'VBD'), Tree('PERSON', [('Matthew', 'NNP'), ('Hickman', 'NNP')]), ('of', 'IN'), Tree('ORGANIZATION', [('Lehman', 'NNP'), ('Brothers', 'NNPS')]), ('in', 'IN'), Tree('GPE', [('New', 'NNP'), ('York', 'NNP')]), ('.', '.')])]"
      ]
     },
     "execution_count": 22,
     "metadata": {},
     "output_type": "execute_result"
    }
   ],
   "source": [
    "nerResults"
   ]
  },
  {
   "cell_type": "code",
   "execution_count": 23,
   "id": "298a6935",
   "metadata": {},
   "outputs": [
    {
     "name": "stdout",
     "output_type": "stream",
     "text": [
      "(S\n",
      "  ''/''\n",
      "  (GPE Mexico/NNP)\n",
      "  has/VBZ\n",
      "  been/VBN\n",
      "  trying/VBG\n",
      "  to/TO\n",
      "  stage/VB\n",
      "  a/DT\n",
      "  recovery/NN\n",
      "  since/IN\n",
      "  the/DT\n",
      "  beginning/NN\n",
      "  of/IN\n",
      "  this/DT\n",
      "  year/NN\n",
      "  and/CC\n",
      "  it/PRP\n",
      "  's/VBZ\n",
      "  always/RB\n",
      "  been/VBN\n",
      "  getting/VBG\n",
      "  ahead/RB\n",
      "  of/IN\n",
      "  itself/PRP\n",
      "  in/IN\n",
      "  terms/NNS\n",
      "  of/IN\n",
      "  fundamentals/NNS\n",
      "  ,/,\n",
      "  ''/''\n",
      "  said/VBD\n",
      "  (PERSON Matthew/NNP Hickman/NNP)\n",
      "  of/IN\n",
      "  (ORGANIZATION Lehman/NNP Brothers/NNPS)\n",
      "  in/IN\n",
      "  (GPE New/NNP York/NNP)\n",
      "  ./.)\n"
     ]
    }
   ],
   "source": [
    "nerResults[0].pprint()"
   ]
  },
  {
   "cell_type": "code",
   "execution_count": null,
   "id": "cb34d0f6",
   "metadata": {},
   "outputs": [],
   "source": [
    "nerResults[0].draw()"
   ]
  },
  {
   "cell_type": "markdown",
   "id": "ebbb6fd3",
   "metadata": {},
   "source": [
    "## 4.Relation extraction"
   ]
  },
  {
   "cell_type": "code",
   "execution_count": 26,
   "id": "60611e91",
   "metadata": {},
   "outputs": [
    {
     "name": "stdout",
     "output_type": "stream",
     "text": [
      "[PER: 'Matthew/NNP Hickman/NNP'] 'of/IN' [ORG: 'Lehman/NNP Brothers/NNPS']\n"
     ]
    }
   ],
   "source": [
    "# who works for Lehman?\n",
    "# IN = re.compile(r'.\"\\bin\\b(?!\\b.+ing)\"')\n",
    "import re\n",
    "OF = re.compile(r'.*\\bof\\b')\n",
    "\n",
    "for rel in nltk.sem.extract_rels('PER', 'ORG', nerResults[0], corpus='ace', pattern=OF):\n",
    "    print(nltk.sem.rtuple(rel))"
   ]
  },
  {
   "cell_type": "code",
   "execution_count": 27,
   "id": "dbb7c25c",
   "metadata": {},
   "outputs": [
    {
     "name": "stderr",
     "output_type": "stream",
     "text": [
      "[nltk_data] Downloading package ieer to C:\\Users\\yi\n",
      "[nltk_data]     quan\\AppData\\Roaming\\nltk_data...\n",
      "[nltk_data]   Package ieer is already up-to-date!\n"
     ]
    },
    {
     "data": {
      "text/plain": [
       "True"
      ]
     },
     "execution_count": 27,
     "metadata": {},
     "output_type": "execute_result"
    }
   ],
   "source": [
    "nltk.download('ieer')"
   ]
  },
  {
   "cell_type": "code",
   "execution_count": 28,
   "id": "a8831921",
   "metadata": {},
   "outputs": [
    {
     "name": "stdout",
     "output_type": "stream",
     "text": [
      "[ORG: 'WHYY'] 'in' [LOC: 'Philadelphia']\n",
      "[ORG: 'McGlashan &AMP; Sarrail'] 'firm in' [LOC: 'San Mateo']\n",
      "[ORG: 'Freedom Forum'] 'in' [LOC: 'Arlington']\n",
      "[ORG: 'Brookings Institution'] ', the research group in' [LOC: 'Washington']\n",
      "[ORG: 'Idealab'] ', a self-described business incubator based in' [LOC: 'Los Angeles']\n",
      "[ORG: 'Open Text'] ', based in' [LOC: 'Waterloo']\n",
      "[ORG: 'WGBH'] 'in' [LOC: 'Boston']\n",
      "[ORG: 'Bastille Opera'] 'in' [LOC: 'Paris']\n",
      "[ORG: 'Omnicom'] 'in' [LOC: 'New York']\n",
      "[ORG: 'DDB Needham'] 'in' [LOC: 'New York']\n",
      "[ORG: 'Kaplan Thaler Group'] 'in' [LOC: 'New York']\n",
      "[ORG: 'BBDO South'] 'in' [LOC: 'Atlanta']\n",
      "[ORG: 'Georgia-Pacific'] 'in' [LOC: 'Atlanta']\n"
     ]
    }
   ],
   "source": [
    "IN = re.compile(r'.*\\bin\\b(?!\\b.+ing)')\n",
    "\n",
    "for doc in nltk.corpus.ieer.parsed_docs('NYT_19980315'):\n",
    "    for rel in nltk.sem.extract_rels('ORG','LOC', doc, corpus='ieer', pattern=IN):\n",
    "        print(nltk.sem.rtuple(rel))"
   ]
  },
  {
   "cell_type": "code",
   "execution_count": null,
   "id": "c4e98e8e",
   "metadata": {},
   "outputs": [],
   "source": []
  }
 ],
 "metadata": {
  "kernelspec": {
   "display_name": "Python 3",
   "language": "python",
   "name": "python3"
  },
  "language_info": {
   "codemirror_mode": {
    "name": "ipython",
    "version": 3
   },
   "file_extension": ".py",
   "mimetype": "text/x-python",
   "name": "python",
   "nbconvert_exporter": "python",
   "pygments_lexer": "ipython3",
   "version": "3.9.12"
  }
 },
 "nbformat": 4,
 "nbformat_minor": 5
}
